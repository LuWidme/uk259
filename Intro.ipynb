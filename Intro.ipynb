{
 "cells": [
  {
   "cell_type": "code",
   "execution_count": 1,
   "id": "8fda6971",
   "metadata": {},
   "outputs": [
    {
     "name": "stdout",
     "output_type": "stream",
     "text": [
      "Hello World\n"
     ]
    }
   ],
   "source": [
    "print(\"Hello World\")"
   ]
  },
  {
   "cell_type": "code",
   "execution_count": 2,
   "id": "d4624da7",
   "metadata": {},
   "outputs": [],
   "source": [
    "import pandas as pd\n",
    "import numpy as np\n",
    "df=pd.read_csv(\"melb_data.csv\")"
   ]
  },
  {
   "cell_type": "markdown",
   "id": "1a3b2c17-071d-4c70-a527-d05080e79a45",
   "metadata": {},
   "source": [
    "## Pandas\n",
    "Pandas is a Data Manipulaiton Library hat makes it easy to handle complex datasets.\n",
    "**Todo: include more Pandas examples**\n"
   ]
  },
  {
   "cell_type": "code",
   "execution_count": 51,
   "id": "1714d5de",
   "metadata": {},
   "outputs": [
    {
     "data": {
      "text/plain": [
       "0        False\n",
       "1        False\n",
       "2         True\n",
       "3         True\n",
       "4         True\n",
       "         ...  \n",
       "13575     True\n",
       "13576     True\n",
       "13577     True\n",
       "13578     True\n",
       "13579     True\n",
       "Name: Rooms, Length: 13580, dtype: bool"
      ]
     },
     "execution_count": 51,
     "metadata": {},
     "output_type": "execute_result"
    }
   ],
   "source": [
    "df\n",
    "df[\"Rooms\"]>2\n",
    "#df[(df[\"Rooms\"]>2) & (df[\"SellerG\"]!=\"Biggin\")][[\"Postcode\", \"Price\"]].iloc[:10,:]"
   ]
  },
  {
   "cell_type": "code",
   "execution_count": null,
   "id": "43d88ed4-e675-4822-b004-0a4432527beb",
   "metadata": {},
   "outputs": [],
   "source": []
  },
  {
   "cell_type": "code",
   "execution_count": null,
   "id": "dbfa0c40-6252-4fb1-8ef2-36dbb46452cf",
   "metadata": {},
   "outputs": [],
   "source": []
  }
 ],
 "metadata": {
  "interpreter": {
   "hash": "17dbd8faaacc25d53b4711e28179d2ae6dbd5797a932c2f06c73186f9f8a4c28"
  },
  "kernelspec": {
   "display_name": "Python 3",
   "language": "python",
   "name": "python3"
  },
  "language_info": {
   "codemirror_mode": {
    "name": "ipython",
    "version": 3
   },
   "file_extension": ".py",
   "mimetype": "text/x-python",
   "name": "python",
   "nbconvert_exporter": "python",
   "pygments_lexer": "ipython3",
   "version": "3.8.8"
  }
 },
 "nbformat": 4,
 "nbformat_minor": 5
}

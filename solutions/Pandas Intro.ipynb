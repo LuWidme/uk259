{
 "cells": [
  {
   "cell_type": "code",
   "execution_count": 3,
   "id": "d4624da7",
   "metadata": {},
   "outputs": [
    {
     "data": {
      "text/html": [
       "<div>\n",
       "<style scoped>\n",
       "    .dataframe tbody tr th:only-of-type {\n",
       "        vertical-align: middle;\n",
       "    }\n",
       "\n",
       "    .dataframe tbody tr th {\n",
       "        vertical-align: top;\n",
       "    }\n",
       "\n",
       "    .dataframe thead th {\n",
       "        text-align: right;\n",
       "    }\n",
       "</style>\n",
       "<table border=\"1\" class=\"dataframe\">\n",
       "  <thead>\n",
       "    <tr style=\"text-align: right;\">\n",
       "      <th></th>\n",
       "      <th>BuildingArea</th>\n",
       "      <th>YearBuilt</th>\n",
       "      <th>CouncilArea</th>\n",
       "    </tr>\n",
       "  </thead>\n",
       "  <tbody>\n",
       "    <tr>\n",
       "      <th>13575</th>\n",
       "      <td>NaN</td>\n",
       "      <td>1981.0</td>\n",
       "      <td>NaN</td>\n",
       "    </tr>\n",
       "    <tr>\n",
       "      <th>13576</th>\n",
       "      <td>133.0</td>\n",
       "      <td>1995.0</td>\n",
       "      <td>NaN</td>\n",
       "    </tr>\n",
       "    <tr>\n",
       "      <th>13577</th>\n",
       "      <td>NaN</td>\n",
       "      <td>1997.0</td>\n",
       "      <td>NaN</td>\n",
       "    </tr>\n",
       "    <tr>\n",
       "      <th>13578</th>\n",
       "      <td>157.0</td>\n",
       "      <td>1920.0</td>\n",
       "      <td>NaN</td>\n",
       "    </tr>\n",
       "    <tr>\n",
       "      <th>13579</th>\n",
       "      <td>112.0</td>\n",
       "      <td>1920.0</td>\n",
       "      <td>NaN</td>\n",
       "    </tr>\n",
       "  </tbody>\n",
       "</table>\n",
       "</div>"
      ],
      "text/plain": [
       "       BuildingArea  YearBuilt CouncilArea\n",
       "13575           NaN     1981.0         NaN\n",
       "13576         133.0     1995.0         NaN\n",
       "13577           NaN     1997.0         NaN\n",
       "13578         157.0     1920.0         NaN\n",
       "13579         112.0     1920.0         NaN"
      ]
     },
     "execution_count": 3,
     "metadata": {},
     "output_type": "execute_result"
    }
   ],
   "source": [
    "import pandas as pd\n",
    "import numpy as np\n",
    "df=pd.read_csv(\"../datasets/melb_data.csv\")\n",
    "df[df.isnull().any(axis=1)].iloc[-5:,14:17]"
   ]
  },
  {
   "cell_type": "markdown",
   "id": "1a3b2c17-071d-4c70-a527-d05080e79a45",
   "metadata": {},
   "source": [
    "## Pandas\n",
    "Pandas is a Data Manipulaiton Library hat makes it easy to handle complex datasets.\n",
    "\n",
    "Creating a DataFrame by passing a NumPy array, with labeled columns:"
   ]
  },
  {
   "cell_type": "code",
   "execution_count": 4,
   "id": "81d9d468-5de6-4a6c-b9b6-dab17707fcd7",
   "metadata": {},
   "outputs": [],
   "source": [
    "df = pd.DataFrame(np.random.randn(6, 4),  columns=list(\"ABCD\"))"
   ]
  },
  {
   "cell_type": "markdown",
   "id": "92906ada-0a22-484c-abcd-a71c112d4b83",
   "metadata": {},
   "source": [
    "The columns of the resulting DataFrame have different dtypes.\n",
    "\n",
    "If you’re using IPython, tab completion for column names (as well as public attributes) is automatically enabled. Here’s a subset of the attributes that will be completed:\n",
    "\n"
   ]
  },
  {
   "cell_type": "code",
   "execution_count": 5,
   "id": "93b58f04-bc1d-4a82-9a8c-9b51ec094797",
   "metadata": {},
   "outputs": [
    {
     "data": {
      "text/plain": [
       "A    float64\n",
       "B    float64\n",
       "C    float64\n",
       "D    float64\n",
       "dtype: object"
      ]
     },
     "execution_count": 5,
     "metadata": {},
     "output_type": "execute_result"
    }
   ],
   "source": [
    "df.dtypes"
   ]
  },
  {
   "cell_type": "markdown",
   "id": "a43d65c6-0536-4480-843e-cba5a10a921a",
   "metadata": {},
   "source": [
    "## Viewing data\n",
    "df.head()\n",
    "df.tail(3)\n",
    "df.describe()\n",
    "df.sort_values(by=\"B\")\n",
    "df.sort_index(axis=1, ascending=False)"
   ]
  },
  {
   "cell_type": "markdown",
   "id": "e84753f7-f1fe-4cc6-9cfa-4d5d8c1ceba6",
   "metadata": {},
   "source": [
    "## Selecting Data"
   ]
  },
  {
   "cell_type": "code",
   "execution_count": 6,
   "id": "baa80724-b3fa-46eb-ace9-5cd261301241",
   "metadata": {},
   "outputs": [
    {
     "name": "stdout",
     "output_type": "stream",
     "text": [
      "0    0.793572\n",
      "1   -1.055325\n",
      "2    0.473101\n",
      "3    0.265533\n",
      "4   -0.240108\n",
      "5   -0.676766\n",
      "Name: A, dtype: float64\n",
      "          A         B\n",
      "3  0.265533  0.552646\n",
      "4 -0.240108  1.702848\n"
     ]
    }
   ],
   "source": [
    "print(df[\"A\"])\n",
    "\n",
    "print(df.iloc[3:5, 0:2] )#selection by index"
   ]
  },
  {
   "cell_type": "markdown",
   "id": "98c8b487-b9f0-4b62-bf5e-013f4f4b6780",
   "metadata": {},
   "source": [
    "## Boolean indexing"
   ]
  },
  {
   "cell_type": "code",
   "execution_count": 7,
   "id": "22a22b8b-1aec-4167-b56f-5851ecbfbebc",
   "metadata": {},
   "outputs": [
    {
     "name": "stdout",
     "output_type": "stream",
     "text": [
      "          A         B         C         D\n",
      "0  0.793572       NaN  0.968678       NaN\n",
      "1       NaN       NaN  1.986096       NaN\n",
      "2  0.473101  1.513316  1.402000       NaN\n",
      "3  0.265533  0.552646  0.198097  0.744350\n",
      "4       NaN  1.702848  1.840285  0.610273\n",
      "5       NaN       NaN  0.508958       NaN\n"
     ]
    },
    {
     "data": {
      "text/html": [
       "<div>\n",
       "<style scoped>\n",
       "    .dataframe tbody tr th:only-of-type {\n",
       "        vertical-align: middle;\n",
       "    }\n",
       "\n",
       "    .dataframe tbody tr th {\n",
       "        vertical-align: top;\n",
       "    }\n",
       "\n",
       "    .dataframe thead th {\n",
       "        text-align: right;\n",
       "    }\n",
       "</style>\n",
       "<table border=\"1\" class=\"dataframe\">\n",
       "  <thead>\n",
       "    <tr style=\"text-align: right;\">\n",
       "      <th></th>\n",
       "      <th>A</th>\n",
       "      <th>B</th>\n",
       "      <th>C</th>\n",
       "      <th>D</th>\n",
       "    </tr>\n",
       "  </thead>\n",
       "  <tbody>\n",
       "    <tr>\n",
       "      <th>0</th>\n",
       "      <td>0.793572</td>\n",
       "      <td>-0.229825</td>\n",
       "      <td>0.968678</td>\n",
       "      <td>-1.649430</td>\n",
       "    </tr>\n",
       "    <tr>\n",
       "      <th>2</th>\n",
       "      <td>0.473101</td>\n",
       "      <td>1.513316</td>\n",
       "      <td>1.402000</td>\n",
       "      <td>-0.380671</td>\n",
       "    </tr>\n",
       "    <tr>\n",
       "      <th>3</th>\n",
       "      <td>0.265533</td>\n",
       "      <td>0.552646</td>\n",
       "      <td>0.198097</td>\n",
       "      <td>0.744350</td>\n",
       "    </tr>\n",
       "  </tbody>\n",
       "</table>\n",
       "</div>"
      ],
      "text/plain": [
       "          A         B         C         D\n",
       "0  0.793572 -0.229825  0.968678 -1.649430\n",
       "2  0.473101  1.513316  1.402000 -0.380671\n",
       "3  0.265533  0.552646  0.198097  0.744350"
      ]
     },
     "execution_count": 7,
     "metadata": {},
     "output_type": "execute_result"
    }
   ],
   "source": [
    "print(df[df > 0])\n",
    "df[df[\"A\"] > 0]\n"
   ]
  },
  {
   "cell_type": "code",
   "execution_count": 8,
   "id": "9945e87c",
   "metadata": {},
   "outputs": [
    {
     "data": {
      "text/html": [
       "<div>\n",
       "<style scoped>\n",
       "    .dataframe tbody tr th:only-of-type {\n",
       "        vertical-align: middle;\n",
       "    }\n",
       "\n",
       "    .dataframe tbody tr th {\n",
       "        vertical-align: top;\n",
       "    }\n",
       "\n",
       "    .dataframe thead th {\n",
       "        text-align: right;\n",
       "    }\n",
       "</style>\n",
       "<table border=\"1\" class=\"dataframe\">\n",
       "  <thead>\n",
       "    <tr style=\"text-align: right;\">\n",
       "      <th></th>\n",
       "      <th>A</th>\n",
       "      <th>B</th>\n",
       "      <th>C</th>\n",
       "      <th>D</th>\n",
       "    </tr>\n",
       "  </thead>\n",
       "  <tbody>\n",
       "    <tr>\n",
       "      <th>0</th>\n",
       "      <td>NaN</td>\n",
       "      <td>NaN</td>\n",
       "      <td>NaN</td>\n",
       "      <td>NaN</td>\n",
       "    </tr>\n",
       "    <tr>\n",
       "      <th>1</th>\n",
       "      <td>NaN</td>\n",
       "      <td>Hello</td>\n",
       "      <td>NaN</td>\n",
       "      <td>NaN</td>\n",
       "    </tr>\n",
       "    <tr>\n",
       "      <th>2</th>\n",
       "      <td>NaN</td>\n",
       "      <td>NaN</td>\n",
       "      <td>NaN</td>\n",
       "      <td>NaN</td>\n",
       "    </tr>\n",
       "    <tr>\n",
       "      <th>3</th>\n",
       "      <td>NaN</td>\n",
       "      <td>NaN</td>\n",
       "      <td>NaN</td>\n",
       "      <td>NaN</td>\n",
       "    </tr>\n",
       "    <tr>\n",
       "      <th>4</th>\n",
       "      <td>NaN</td>\n",
       "      <td>NaN</td>\n",
       "      <td>NaN</td>\n",
       "      <td>NaN</td>\n",
       "    </tr>\n",
       "    <tr>\n",
       "      <th>5</th>\n",
       "      <td>NaN</td>\n",
       "      <td>NaN</td>\n",
       "      <td>NaN</td>\n",
       "      <td>NaN</td>\n",
       "    </tr>\n",
       "  </tbody>\n",
       "</table>\n",
       "</div>"
      ],
      "text/plain": [
       "    A      B   C   D\n",
       "0 NaN    NaN NaN NaN\n",
       "1 NaN  Hello NaN NaN\n",
       "2 NaN    NaN NaN NaN\n",
       "3 NaN    NaN NaN NaN\n",
       "4 NaN    NaN NaN NaN\n",
       "5 NaN    NaN NaN NaN"
      ]
     },
     "execution_count": 8,
     "metadata": {},
     "output_type": "execute_result"
    }
   ],
   "source": [
    "df.iloc[1,1] = \"Hello\"\n",
    "\n",
    "df[df.isin([\"Hello\", \"World\"])]"
   ]
  },
  {
   "cell_type": "markdown",
   "id": "14c3dc12-4c75-4447-901d-6daa40c034be",
   "metadata": {},
   "source": [
    "## Task1: Missing data\n",
    "In the following Dataframe, some data is missing. Find a way to:\n",
    "* 1: Remove the column containing the missing data\n",
    "* 2:  Fill the missing column with the average of each row"
   ]
  },
  {
   "cell_type": "code",
   "execution_count": 29,
   "id": "c08a8409-85f3-479b-817a-d425e69b1781",
   "metadata": {},
   "outputs": [
    {
     "data": {
      "text/html": [
       "<div>\n",
       "<style scoped>\n",
       "    .dataframe tbody tr th:only-of-type {\n",
       "        vertical-align: middle;\n",
       "    }\n",
       "\n",
       "    .dataframe tbody tr th {\n",
       "        vertical-align: top;\n",
       "    }\n",
       "\n",
       "    .dataframe thead th {\n",
       "        text-align: right;\n",
       "    }\n",
       "</style>\n",
       "<table border=\"1\" class=\"dataframe\">\n",
       "  <thead>\n",
       "    <tr style=\"text-align: right;\">\n",
       "      <th></th>\n",
       "      <th>A</th>\n",
       "      <th>B</th>\n",
       "      <th>C</th>\n",
       "      <th>D</th>\n",
       "      <th>E</th>\n",
       "    </tr>\n",
       "  </thead>\n",
       "  <tbody>\n",
       "    <tr>\n",
       "      <th>2000-01-01</th>\n",
       "      <td>-0.968675</td>\n",
       "      <td>0.484386</td>\n",
       "      <td>0.062507</td>\n",
       "      <td>-0.525718</td>\n",
       "      <td>NaN</td>\n",
       "    </tr>\n",
       "    <tr>\n",
       "      <th>2000-01-02</th>\n",
       "      <td>0.129713</td>\n",
       "      <td>1.895718</td>\n",
       "      <td>1.555978</td>\n",
       "      <td>-0.239140</td>\n",
       "      <td>NaN</td>\n",
       "    </tr>\n",
       "    <tr>\n",
       "      <th>2000-01-03</th>\n",
       "      <td>1.557493</td>\n",
       "      <td>1.986169</td>\n",
       "      <td>0.811139</td>\n",
       "      <td>-2.229692</td>\n",
       "      <td>NaN</td>\n",
       "    </tr>\n",
       "    <tr>\n",
       "      <th>2000-01-04</th>\n",
       "      <td>0.323370</td>\n",
       "      <td>1.264527</td>\n",
       "      <td>0.800800</td>\n",
       "      <td>-1.603788</td>\n",
       "      <td>NaN</td>\n",
       "    </tr>\n",
       "    <tr>\n",
       "      <th>2000-01-05</th>\n",
       "      <td>2.328486</td>\n",
       "      <td>1.712895</td>\n",
       "      <td>-0.129095</td>\n",
       "      <td>-1.298232</td>\n",
       "      <td>NaN</td>\n",
       "    </tr>\n",
       "    <tr>\n",
       "      <th>...</th>\n",
       "      <td>...</td>\n",
       "      <td>...</td>\n",
       "      <td>...</td>\n",
       "      <td>...</td>\n",
       "      <td>...</td>\n",
       "    </tr>\n",
       "    <tr>\n",
       "      <th>2002-09-22</th>\n",
       "      <td>-26.685280</td>\n",
       "      <td>3.474284</td>\n",
       "      <td>-27.898531</td>\n",
       "      <td>39.074424</td>\n",
       "      <td>NaN</td>\n",
       "    </tr>\n",
       "    <tr>\n",
       "      <th>2002-09-23</th>\n",
       "      <td>-27.440330</td>\n",
       "      <td>5.230518</td>\n",
       "      <td>-28.505705</td>\n",
       "      <td>38.851397</td>\n",
       "      <td>NaN</td>\n",
       "    </tr>\n",
       "    <tr>\n",
       "      <th>2002-09-24</th>\n",
       "      <td>-28.178599</td>\n",
       "      <td>3.772772</td>\n",
       "      <td>-27.713360</td>\n",
       "      <td>39.307957</td>\n",
       "      <td>NaN</td>\n",
       "    </tr>\n",
       "    <tr>\n",
       "      <th>2002-09-25</th>\n",
       "      <td>-27.380401</td>\n",
       "      <td>4.563130</td>\n",
       "      <td>-27.799221</td>\n",
       "      <td>38.649846</td>\n",
       "      <td>NaN</td>\n",
       "    </tr>\n",
       "    <tr>\n",
       "      <th>2002-09-26</th>\n",
       "      <td>-27.584078</td>\n",
       "      <td>4.420206</td>\n",
       "      <td>-27.816662</td>\n",
       "      <td>37.778079</td>\n",
       "      <td>NaN</td>\n",
       "    </tr>\n",
       "  </tbody>\n",
       "</table>\n",
       "<p>1000 rows × 5 columns</p>\n",
       "</div>"
      ],
      "text/plain": [
       "                    A         B          C          D   E\n",
       "2000-01-01  -0.968675  0.484386   0.062507  -0.525718 NaN\n",
       "2000-01-02   0.129713  1.895718   1.555978  -0.239140 NaN\n",
       "2000-01-03   1.557493  1.986169   0.811139  -2.229692 NaN\n",
       "2000-01-04   0.323370  1.264527   0.800800  -1.603788 NaN\n",
       "2000-01-05   2.328486  1.712895  -0.129095  -1.298232 NaN\n",
       "...               ...       ...        ...        ...  ..\n",
       "2002-09-22 -26.685280  3.474284 -27.898531  39.074424 NaN\n",
       "2002-09-23 -27.440330  5.230518 -28.505705  38.851397 NaN\n",
       "2002-09-24 -28.178599  3.772772 -27.713360  39.307957 NaN\n",
       "2002-09-25 -27.380401  4.563130 -27.799221  38.649846 NaN\n",
       "2002-09-26 -27.584078  4.420206 -27.816662  37.778079 NaN\n",
       "\n",
       "[1000 rows x 5 columns]"
      ]
     },
     "execution_count": 29,
     "metadata": {},
     "output_type": "execute_result"
    }
   ],
   "source": [
    "df1 = df.reindex( columns=list(df.columns) + [\"E\"])\n",
    "df1"
   ]
  },
  {
   "cell_type": "code",
   "execution_count": 55,
   "id": "92912693-6f07-487a-8883-63ae7c8c2974",
   "metadata": {},
   "outputs": [
    {
     "data": {
      "text/html": [
       "<div>\n",
       "<style scoped>\n",
       "    .dataframe tbody tr th:only-of-type {\n",
       "        vertical-align: middle;\n",
       "    }\n",
       "\n",
       "    .dataframe tbody tr th {\n",
       "        vertical-align: top;\n",
       "    }\n",
       "\n",
       "    .dataframe thead th {\n",
       "        text-align: right;\n",
       "    }\n",
       "</style>\n",
       "<table border=\"1\" class=\"dataframe\">\n",
       "  <thead>\n",
       "    <tr style=\"text-align: right;\">\n",
       "      <th></th>\n",
       "      <th>A</th>\n",
       "      <th>B</th>\n",
       "      <th>C</th>\n",
       "      <th>D</th>\n",
       "      <th>E</th>\n",
       "    </tr>\n",
       "  </thead>\n",
       "  <tbody>\n",
       "    <tr>\n",
       "      <th>2000-01-01</th>\n",
       "      <td>-0.968675</td>\n",
       "      <td>0.484386</td>\n",
       "      <td>0.062507</td>\n",
       "      <td>-0.525718</td>\n",
       "      <td>-0.236875</td>\n",
       "    </tr>\n",
       "    <tr>\n",
       "      <th>2000-01-02</th>\n",
       "      <td>0.129713</td>\n",
       "      <td>1.895718</td>\n",
       "      <td>1.555978</td>\n",
       "      <td>-0.239140</td>\n",
       "      <td>0.835567</td>\n",
       "    </tr>\n",
       "    <tr>\n",
       "      <th>2000-01-03</th>\n",
       "      <td>1.557493</td>\n",
       "      <td>1.986169</td>\n",
       "      <td>0.811139</td>\n",
       "      <td>-2.229692</td>\n",
       "      <td>0.531277</td>\n",
       "    </tr>\n",
       "    <tr>\n",
       "      <th>2000-01-04</th>\n",
       "      <td>0.323370</td>\n",
       "      <td>1.264527</td>\n",
       "      <td>0.800800</td>\n",
       "      <td>-1.603788</td>\n",
       "      <td>0.196227</td>\n",
       "    </tr>\n",
       "    <tr>\n",
       "      <th>2000-01-05</th>\n",
       "      <td>2.328486</td>\n",
       "      <td>1.712895</td>\n",
       "      <td>-0.129095</td>\n",
       "      <td>-1.298232</td>\n",
       "      <td>0.653514</td>\n",
       "    </tr>\n",
       "    <tr>\n",
       "      <th>...</th>\n",
       "      <td>...</td>\n",
       "      <td>...</td>\n",
       "      <td>...</td>\n",
       "      <td>...</td>\n",
       "      <td>...</td>\n",
       "    </tr>\n",
       "    <tr>\n",
       "      <th>2002-09-22</th>\n",
       "      <td>-26.685280</td>\n",
       "      <td>3.474284</td>\n",
       "      <td>-27.898531</td>\n",
       "      <td>39.074424</td>\n",
       "      <td>-3.008776</td>\n",
       "    </tr>\n",
       "    <tr>\n",
       "      <th>2002-09-23</th>\n",
       "      <td>-27.440330</td>\n",
       "      <td>5.230518</td>\n",
       "      <td>-28.505705</td>\n",
       "      <td>38.851397</td>\n",
       "      <td>-2.966030</td>\n",
       "    </tr>\n",
       "    <tr>\n",
       "      <th>2002-09-24</th>\n",
       "      <td>-28.178599</td>\n",
       "      <td>3.772772</td>\n",
       "      <td>-27.713360</td>\n",
       "      <td>39.307957</td>\n",
       "      <td>-3.202808</td>\n",
       "    </tr>\n",
       "    <tr>\n",
       "      <th>2002-09-25</th>\n",
       "      <td>-27.380401</td>\n",
       "      <td>4.563130</td>\n",
       "      <td>-27.799221</td>\n",
       "      <td>38.649846</td>\n",
       "      <td>-2.991661</td>\n",
       "    </tr>\n",
       "    <tr>\n",
       "      <th>2002-09-26</th>\n",
       "      <td>-27.584078</td>\n",
       "      <td>4.420206</td>\n",
       "      <td>-27.816662</td>\n",
       "      <td>37.778079</td>\n",
       "      <td>-3.300614</td>\n",
       "    </tr>\n",
       "  </tbody>\n",
       "</table>\n",
       "<p>1000 rows × 5 columns</p>\n",
       "</div>"
      ],
      "text/plain": [
       "                    A         B          C          D         E\n",
       "2000-01-01  -0.968675  0.484386   0.062507  -0.525718 -0.236875\n",
       "2000-01-02   0.129713  1.895718   1.555978  -0.239140  0.835567\n",
       "2000-01-03   1.557493  1.986169   0.811139  -2.229692  0.531277\n",
       "2000-01-04   0.323370  1.264527   0.800800  -1.603788  0.196227\n",
       "2000-01-05   2.328486  1.712895  -0.129095  -1.298232  0.653514\n",
       "...               ...       ...        ...        ...       ...\n",
       "2002-09-22 -26.685280  3.474284 -27.898531  39.074424 -3.008776\n",
       "2002-09-23 -27.440330  5.230518 -28.505705  38.851397 -2.966030\n",
       "2002-09-24 -28.178599  3.772772 -27.713360  39.307957 -3.202808\n",
       "2002-09-25 -27.380401  4.563130 -27.799221  38.649846 -2.991661\n",
       "2002-09-26 -27.584078  4.420206 -27.816662  37.778079 -3.300614\n",
       "\n",
       "[1000 rows x 5 columns]"
      ]
     },
     "execution_count": 55,
     "metadata": {},
     "output_type": "execute_result"
    }
   ],
   "source": [
    "# df1.dropna(axis='columns')\n",
    "# df1.fillna(value=5)\n",
    "# pd.isna(df1)\n",
    "df1.iloc[:,4]=df1.mean(axis=1)\n",
    "df1"
   ]
  },
  {
   "cell_type": "markdown",
   "id": "f6ff8f4a-a048-4ad6-b5ae-9720e7100d8e",
   "metadata": {},
   "source": [
    "# Task 2.1: Plotting\n",
    "\n",
    "The variable *ts* below contains a randomly generated \"time series\" a dataset in which time is one of the axies.\n",
    "\n",
    "* Calculate the **cumulative sum** of this series in a new series. The cumulative sum at index *i* is the sum of all entries in *ts* up until index *i*.\n",
    "* Plot the cumulative sum using *matplotlib*"
   ]
  },
  {
   "cell_type": "code",
   "execution_count": 27,
   "id": "43a4e2a6-218b-4894-8524-cf34299bc5ed",
   "metadata": {},
   "outputs": [
    {
     "data": {
      "image/png": "[encoded data removed]",
      "text/plain": [
       "<Figure size 432x288 with 1 Axes>"
      ]
     },
     "metadata": {
      "needs_background": "light"
     },
     "output_type": "display_data"
    }
   ],
   "source": [
    "import matplotlib.pyplot as plt\n",
    "ts = pd.Series(np.random.randn(1000), index=pd.date_range(\"1/1/2000\", periods=1000))\n",
    "\n",
    "ts = ts.cumsum()\n",
    "\n",
    "ts.plot();"
   ]
  },
  {
   "cell_type": "markdown",
   "id": "bddf06bc",
   "metadata": {},
   "source": [
    "# Task 2.2:  \n",
    "\n",
    "Adapt the code above to plot 4 timeseries in the same plot, with A different colour and label for each timeseries.\\\n",
    "The output should look similar to this:\\\n",
    "![ ](..\\img\\output_2_2.png)"
   ]
  },
  {
   "cell_type": "code",
   "execution_count": 28,
   "id": "33a32a06-e2da-4b15-ab00-c1a0361667df",
   "metadata": {},
   "outputs": [
    {
     "data": {
      "text/plain": [
       "<Figure size 432x288 with 0 Axes>"
      ]
     },
     "metadata": {},
     "output_type": "display_data"
    },
    {
     "data": {
      "image/png": "[encoded data removed]",
      "text/plain": [
       "<Figure size 432x288 with 1 Axes>"
      ]
     },
     "metadata": {
      "needs_background": "light"
     },
     "output_type": "display_data"
    }
   ],
   "source": [
    "df = pd.DataFrame(\n",
    "    np.random.randn(1000, 4), index=ts.index, columns=[\"A\", \"B\", \"C\", \"D\"]\n",
    ")\n",
    "\n",
    "\n",
    "df = df.cumsum()\n",
    "\n",
    "plt.figure();\n",
    "\n",
    "df.plot();\n",
    "\n",
    "plt.legend(loc='best');"
   ]
  }
 ],
 "metadata": {
  "interpreter": {
   "hash": "17dbd8faaacc25d53b4711e28179d2ae6dbd5797a932c2f06c73186f9f8a4c28"
  },
  "kernelspec": {
   "display_name": "Python 3",
   "language": "python",
   "name": "python3"
  },
  "language_info": {
   "codemirror_mode": {
    "name": "ipython",
    "version": 3
   },
   "file_extension": ".py",
   "mimetype": "text/x-python",
   "name": "python",
   "nbconvert_exporter": "python",
   "pygments_lexer": "ipython3",
   "version": "3.9.9"
  }
 },
 "nbformat": 4,
 "nbformat_minor": 5
}

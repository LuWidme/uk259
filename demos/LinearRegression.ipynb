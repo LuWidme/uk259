{
  "cells": [
    {
      "cell_type": "markdown",
      "source": [
        "# Building a linear regression model\n",
        "\n",
        "To build a linear regression model in python, we’ll follow five steps:\n",
        "\n",
        "* Reading and understanding the data\n",
        "* Visualizing the data\n",
        "* Performing simple linear regression\n",
        "* Residual analysis\n",
        "* Predictions on the test set\n",
        "\n",
        "\n",
        "NumPy — used to perform mathematical operations mainly using multi-dimensional arrays.\n",
        "pandas — used for data manipulation and analysis.\n",
        "matplotlib — it is a plotting library as a component of NumPy\n",
        "statsmodels — it is used to explore data, estimate statistical models and perform statistical tests.\n",
        "\n",
        "\n"
      ],
      "metadata": {
        "collapsed": false,
        "id": "JLzL3KhgiePe"
      }
    },
    {
      "cell_type": "markdown",
      "source": [
        "\n",
        "![img](https://github.com/LuWidme/uk259/blob/main/img/1_N1-K-A43_98pYZ27fnupDA%20(1).jpg?raw=1)"
      ],
      "metadata": {
        "collapsed": false,
        "id": "idhb29NmiePl"
      }
    },
    {
      "cell_type": "markdown",
      "source": [
        "[Adevertising Dataset Kaggle](https://www.kaggle.com/datasets/bumba5341/advertisingcsv)\n",
        "Adapted from [here](https://towardsdatascience.com/linear-regression-explained-1b36f97b7572)"
      ],
      "metadata": {
        "collapsed": false,
        "id": "S6RW_dWWiePm"
      }
    },
    {
      "cell_type": "code",
      "execution_count": 34,
      "outputs": [],
      "source": [
        "import numpy as np\n",
        "import pandas as pd\n",
        "import seaborn as sns\n",
        "import matplotlib.pyplot as plt\n",
        "from statsmodels.formula.api import ols"
      ],
      "metadata": {
        "ExecuteTime": {
          "end_time": "2023-06-28T12:27:42.123411Z",
          "start_time": "2023-06-28T12:27:41.996213500Z"
        },
        "id": "S9G45-XZiePm"
      }
    },
    {
      "cell_type": "markdown",
      "source": [
        "## 1. Import the Dataset\n"
      ],
      "metadata": {
        "collapsed": false,
        "id": "cBzFRDMeiePn"
      }
    },
    {
      "cell_type": "code",
      "execution_count": 35,
      "outputs": [],
      "source": [
        "data = sns.load_dataset(\"tips\")"
      ],
      "metadata": {
        "ExecuteTime": {
          "end_time": "2023-06-28T12:27:42.162765Z",
          "start_time": "2023-06-28T12:27:42.015545100Z"
        },
        "id": "cMVaMDkPiePo"
      }
    },
    {
      "cell_type": "markdown",
      "source": [
        "## 2. Descriptive Statistics\n",
        "It is a good practice beforehand to get apprised with the descriptive statistics as it helps us to understand the dataset (eg. — are there any outliers present, etc.)\n",
        "\n",
        "We can perform descriptive statistics using the following command:"
      ],
      "metadata": {
        "collapsed": false,
        "id": "Ty7FBSwXiePo"
      }
    },
    {
      "cell_type": "code",
      "execution_count": 36,
      "outputs": [
        {
          "output_type": "stream",
          "name": "stdout",
          "text": [
            "   total_bill   tip     sex smoker  day    time  size\n",
            "0       16.99  1.01  Female     No  Sun  Dinner     2\n",
            "1       10.34  1.66    Male     No  Sun  Dinner     3\n",
            "2       21.01  3.50    Male     No  Sun  Dinner     3\n",
            "3       23.68  3.31    Male     No  Sun  Dinner     2\n",
            "4       24.59  3.61  Female     No  Sun  Dinner     4\n"
          ]
        },
        {
          "output_type": "execute_result",
          "data": {
            "text/plain": [
              "       total_bill         tip        size\n",
              "count  244.000000  244.000000  244.000000\n",
              "mean    19.785943    2.998279    2.569672\n",
              "std      8.902412    1.383638    0.951100\n",
              "min      3.070000    1.000000    1.000000\n",
              "25%     13.347500    2.000000    2.000000\n",
              "50%     17.795000    2.900000    2.000000\n",
              "75%     24.127500    3.562500    3.000000\n",
              "max     50.810000   10.000000    6.000000"
            ],
            "text/html": [
              "\n",
              "  <div id=\"df-43ed011c-cf1d-4814-b64d-4b2e7a186506\" class=\"colab-df-container\">\n",
              "    <div>\n",
              "<style scoped>\n",
              "    .dataframe tbody tr th:only-of-type {\n",
              "        vertical-align: middle;\n",
              "    }\n",
              "\n",
              "    .dataframe tbody tr th {\n",
              "        vertical-align: top;\n",
              "    }\n",
              "\n",
              "    .dataframe thead th {\n",
              "        text-align: right;\n",
              "    }\n",
              "</style>\n",
              "<table border=\"1\" class=\"dataframe\">\n",
              "  <thead>\n",
              "    <tr style=\"text-align: right;\">\n",
              "      <th></th>\n",
              "      <th>total_bill</th>\n",
              "      <th>tip</th>\n",
              "      <th>size</th>\n",
              "    </tr>\n",
              "  </thead>\n",
              "  <tbody>\n",
              "    <tr>\n",
              "      <th>count</th>\n",
              "      <td>244.000000</td>\n",
              "      <td>244.000000</td>\n",
              "      <td>244.000000</td>\n",
              "    </tr>\n",
              "    <tr>\n",
              "      <th>mean</th>\n",
              "      <td>19.785943</td>\n",
              "      <td>2.998279</td>\n",
              "      <td>2.569672</td>\n",
              "    </tr>\n",
              "    <tr>\n",
              "      <th>std</th>\n",
              "      <td>8.902412</td>\n",
              "      <td>1.383638</td>\n",
              "      <td>0.951100</td>\n",
              "    </tr>\n",
              "    <tr>\n",
              "      <th>min</th>\n",
              "      <td>3.070000</td>\n",
              "      <td>1.000000</td>\n",
              "      <td>1.000000</td>\n",
              "    </tr>\n",
              "    <tr>\n",
              "      <th>25%</th>\n",
              "      <td>13.347500</td>\n",
              "      <td>2.000000</td>\n",
              "      <td>2.000000</td>\n",
              "    </tr>\n",
              "    <tr>\n",
              "      <th>50%</th>\n",
              "      <td>17.795000</td>\n",
              "      <td>2.900000</td>\n",
              "      <td>2.000000</td>\n",
              "    </tr>\n",
              "    <tr>\n",
              "      <th>75%</th>\n",
              "      <td>24.127500</td>\n",
              "      <td>3.562500</td>\n",
              "      <td>3.000000</td>\n",
              "    </tr>\n",
              "    <tr>\n",
              "      <th>max</th>\n",
              "      <td>50.810000</td>\n",
              "      <td>10.000000</td>\n",
              "      <td>6.000000</td>\n",
              "    </tr>\n",
              "  </tbody>\n",
              "</table>\n",
              "</div>\n",
              "    <div class=\"colab-df-buttons\">\n",
              "\n",
              "  <div class=\"colab-df-container\">\n",
              "    <button class=\"colab-df-convert\" onclick=\"convertToInteractive('df-43ed011c-cf1d-4814-b64d-4b2e7a186506')\"\n",
              "            title=\"Convert this dataframe to an interactive table.\"\n",
              "            style=\"display:none;\">\n",
              "\n",
              "  <svg xmlns=\"http://www.w3.org/2000/svg\" height=\"24px\" viewBox=\"0 -960 960 960\">\n",
              "    <path d=\"M120-120v-720h720v720H120Zm60-500h600v-160H180v160Zm220 220h160v-160H400v160Zm0 220h160v-160H400v160ZM180-400h160v-160H180v160Zm440 0h160v-160H620v160ZM180-180h160v-160H180v160Zm440 0h160v-160H620v160Z\"/>\n",
              "  </svg>\n",
              "    </button>\n",
              "\n",
              "  <style>\n",
              "    .colab-df-container {\n",
              "      display:flex;\n",
              "      gap: 12px;\n",
              "    }\n",
              "\n",
              "    .colab-df-convert {\n",
              "      background-color: #E8F0FE;\n",
              "      border: none;\n",
              "      border-radius: 50%;\n",
              "      cursor: pointer;\n",
              "      display: none;\n",
              "      fill: #1967D2;\n",
              "      height: 32px;\n",
              "      padding: 0 0 0 0;\n",
              "      width: 32px;\n",
              "    }\n",
              "\n",
              "    .colab-df-convert:hover {\n",
              "      background-color: #E2EBFA;\n",
              "      box-shadow: 0px 1px 2px rgba(60, 64, 67, 0.3), 0px 1px 3px 1px rgba(60, 64, 67, 0.15);\n",
              "      fill: #174EA6;\n",
              "    }\n",
              "\n",
              "    .colab-df-buttons div {\n",
              "      margin-bottom: 4px;\n",
              "    }\n",
              "\n",
              "    [theme=dark] .colab-df-convert {\n",
              "      background-color: #3B4455;\n",
              "      fill: #D2E3FC;\n",
              "    }\n",
              "\n",
              "    [theme=dark] .colab-df-convert:hover {\n",
              "      background-color: #434B5C;\n",
              "      box-shadow: 0px 1px 3px 1px rgba(0, 0, 0, 0.15);\n",
              "      filter: drop-shadow(0px 1px 2px rgba(0, 0, 0, 0.3));\n",
              "      fill: #FFFFFF;\n",
              "    }\n",
              "  </style>\n",
              "\n",
              "    <script>\n",
              "      const buttonEl =\n",
              "        document.querySelector('#df-43ed011c-cf1d-4814-b64d-4b2e7a186506 button.colab-df-convert');\n",
              "      buttonEl.style.display =\n",
              "        google.colab.kernel.accessAllowed ? 'block' : 'none';\n",
              "\n",
              "      async function convertToInteractive(key) {\n",
              "        const element = document.querySelector('#df-43ed011c-cf1d-4814-b64d-4b2e7a186506');\n",
              "        const dataTable =\n",
              "          await google.colab.kernel.invokeFunction('convertToInteractive',\n",
              "                                                    [key], {});\n",
              "        if (!dataTable) return;\n",
              "\n",
              "        const docLinkHtml = 'Like what you see? Visit the ' +\n",
              "          '<a target=\"_blank\" href=https://colab.research.google.com/notebooks/data_table.ipynb>data table notebook</a>'\n",
              "          + ' to learn more about interactive tables.';\n",
              "        element.innerHTML = '';\n",
              "        dataTable['output_type'] = 'display_data';\n",
              "        await google.colab.output.renderOutput(dataTable, element);\n",
              "        const docLink = document.createElement('div');\n",
              "        docLink.innerHTML = docLinkHtml;\n",
              "        element.appendChild(docLink);\n",
              "      }\n",
              "    </script>\n",
              "  </div>\n",
              "\n",
              "\n",
              "<div id=\"df-253f9514-4501-4087-9923-6b21baa45739\">\n",
              "  <button class=\"colab-df-quickchart\" onclick=\"quickchart('df-253f9514-4501-4087-9923-6b21baa45739')\"\n",
              "            title=\"Suggest charts\"\n",
              "            style=\"display:none;\">\n",
              "\n",
              "<svg xmlns=\"http://www.w3.org/2000/svg\" height=\"24px\"viewBox=\"0 0 24 24\"\n",
              "     width=\"24px\">\n",
              "    <g>\n",
              "        <path d=\"M19 3H5c-1.1 0-2 .9-2 2v14c0 1.1.9 2 2 2h14c1.1 0 2-.9 2-2V5c0-1.1-.9-2-2-2zM9 17H7v-7h2v7zm4 0h-2V7h2v10zm4 0h-2v-4h2v4z\"/>\n",
              "    </g>\n",
              "</svg>\n",
              "  </button>\n",
              "\n",
              "<style>\n",
              "  .colab-df-quickchart {\n",
              "      --bg-color: #E8F0FE;\n",
              "      --fill-color: #1967D2;\n",
              "      --hover-bg-color: #E2EBFA;\n",
              "      --hover-fill-color: #174EA6;\n",
              "      --disabled-fill-color: #AAA;\n",
              "      --disabled-bg-color: #DDD;\n",
              "  }\n",
              "\n",
              "  [theme=dark] .colab-df-quickchart {\n",
              "      --bg-color: #3B4455;\n",
              "      --fill-color: #D2E3FC;\n",
              "      --hover-bg-color: #434B5C;\n",
              "      --hover-fill-color: #FFFFFF;\n",
              "      --disabled-bg-color: #3B4455;\n",
              "      --disabled-fill-color: #666;\n",
              "  }\n",
              "\n",
              "  .colab-df-quickchart {\n",
              "    background-color: var(--bg-color);\n",
              "    border: none;\n",
              "    border-radius: 50%;\n",
              "    cursor: pointer;\n",
              "    display: none;\n",
              "    fill: var(--fill-color);\n",
              "    height: 32px;\n",
              "    padding: 0;\n",
              "    width: 32px;\n",
              "  }\n",
              "\n",
              "  .colab-df-quickchart:hover {\n",
              "    background-color: var(--hover-bg-color);\n",
              "    box-shadow: 0 1px 2px rgba(60, 64, 67, 0.3), 0 1px 3px 1px rgba(60, 64, 67, 0.15);\n",
              "    fill: var(--button-hover-fill-color);\n",
              "  }\n",
              "\n",
              "  .colab-df-quickchart-complete:disabled,\n",
              "  .colab-df-quickchart-complete:disabled:hover {\n",
              "    background-color: var(--disabled-bg-color);\n",
              "    fill: var(--disabled-fill-color);\n",
              "    box-shadow: none;\n",
              "  }\n",
              "\n",
              "  .colab-df-spinner {\n",
              "    border: 2px solid var(--fill-color);\n",
              "    border-color: transparent;\n",
              "    border-bottom-color: var(--fill-color);\n",
              "    animation:\n",
              "      spin 1s steps(1) infinite;\n",
              "  }\n",
              "\n",
              "  @keyframes spin {\n",
              "    0% {\n",
              "      border-color: transparent;\n",
              "      border-bottom-color: var(--fill-color);\n",
              "      border-left-color: var(--fill-color);\n",
              "    }\n",
              "    20% {\n",
              "      border-color: transparent;\n",
              "      border-left-color: var(--fill-color);\n",
              "      border-top-color: var(--fill-color);\n",
              "    }\n",
              "    30% {\n",
              "      border-color: transparent;\n",
              "      border-left-color: var(--fill-color);\n",
              "      border-top-color: var(--fill-color);\n",
              "      border-right-color: var(--fill-color);\n",
              "    }\n",
              "    40% {\n",
              "      border-color: transparent;\n",
              "      border-right-color: var(--fill-color);\n",
              "      border-top-color: var(--fill-color);\n",
              "    }\n",
              "    60% {\n",
              "      border-color: transparent;\n",
              "      border-right-color: var(--fill-color);\n",
              "    }\n",
              "    80% {\n",
              "      border-color: transparent;\n",
              "      border-right-color: var(--fill-color);\n",
              "      border-bottom-color: var(--fill-color);\n",
              "    }\n",
              "    90% {\n",
              "      border-color: transparent;\n",
              "      border-bottom-color: var(--fill-color);\n",
              "    }\n",
              "  }\n",
              "</style>\n",
              "\n",
              "  <script>\n",
              "    async function quickchart(key) {\n",
              "      const quickchartButtonEl =\n",
              "        document.querySelector('#' + key + ' button');\n",
              "      quickchartButtonEl.disabled = true;  // To prevent multiple clicks.\n",
              "      quickchartButtonEl.classList.add('colab-df-spinner');\n",
              "      try {\n",
              "        const charts = await google.colab.kernel.invokeFunction(\n",
              "            'suggestCharts', [key], {});\n",
              "      } catch (error) {\n",
              "        console.error('Error during call to suggestCharts:', error);\n",
              "      }\n",
              "      quickchartButtonEl.classList.remove('colab-df-spinner');\n",
              "      quickchartButtonEl.classList.add('colab-df-quickchart-complete');\n",
              "    }\n",
              "    (() => {\n",
              "      let quickchartButtonEl =\n",
              "        document.querySelector('#df-253f9514-4501-4087-9923-6b21baa45739 button');\n",
              "      quickchartButtonEl.style.display =\n",
              "        google.colab.kernel.accessAllowed ? 'block' : 'none';\n",
              "    })();\n",
              "  </script>\n",
              "</div>\n",
              "    </div>\n",
              "  </div>\n"
            ],
            "application/vnd.google.colaboratory.intrinsic+json": {
              "type": "dataframe",
              "summary": "{\n  \"name\": \"data\",\n  \"rows\": 8,\n  \"fields\": [\n    {\n      \"column\": \"total_bill\",\n      \"properties\": {\n        \"dtype\": \"number\",\n        \"std\": 80.57800601480773,\n        \"min\": 3.07,\n        \"max\": 244.0,\n        \"num_unique_values\": 8,\n        \"samples\": [\n          19.78594262295082,\n          17.795,\n          244.0\n        ],\n        \"semantic_type\": \"\",\n        \"description\": \"\"\n      }\n    },\n    {\n      \"column\": \"tip\",\n      \"properties\": {\n        \"dtype\": \"number\",\n        \"std\": 85.10953159599222,\n        \"min\": 1.0,\n        \"max\": 244.0,\n        \"num_unique_values\": 8,\n        \"samples\": [\n          2.99827868852459,\n          2.9,\n          244.0\n        ],\n        \"semantic_type\": \"\",\n        \"description\": \"\"\n      }\n    },\n    {\n      \"column\": \"size\",\n      \"properties\": {\n        \"dtype\": \"number\",\n        \"std\": 85.39686221774683,\n        \"min\": 0.9510998047322344,\n        \"max\": 244.0,\n        \"num_unique_values\": 7,\n        \"samples\": [\n          244.0,\n          2.569672131147541,\n          3.0\n        ],\n        \"semantic_type\": \"\",\n        \"description\": \"\"\n      }\n    }\n  ]\n}"
            }
          },
          "metadata": {},
          "execution_count": 36
        }
      ],
      "source": [
        "print(data.head())\n",
        "data.describe()\n"
      ],
      "metadata": {
        "ExecuteTime": {
          "end_time": "2023-06-28T12:27:42.162765Z",
          "start_time": "2023-06-28T12:27:42.042030700Z"
        },
        "id": "ufkAAwOsiePp",
        "outputId": "17752df4-fd6e-4841-da16-367f5988fc70",
        "colab": {
          "base_uri": "https://localhost:8080/",
          "height": 410
        }
      }
    },
    {
      "cell_type": "markdown",
      "source": [],
      "metadata": {
        "collapsed": false,
        "id": "NaMWGJIRiePp"
      }
    },
    {
      "cell_type": "code",
      "execution_count": 37,
      "outputs": [
        {
          "output_type": "display_data",
          "data": {
            "text/plain": [
              "<Figure size 640x480 with 1 Axes>"
            ],
            "image/png": "[encoded data removed]"
          },
          "metadata": {}
        }
      ],
      "source": [
        "y=data[\"tip\"]\n",
        "x1= data [\"total_bill\"]\n",
        "plt.scatter(x1,y)\n",
        "plt.xlabel(\"Total Bill \")\n",
        "\n",
        "plt.ylabel(\"Tips\")\n",
        "plt.show()"
      ],
      "metadata": {
        "ExecuteTime": {
          "end_time": "2023-06-28T12:27:42.353150200Z",
          "start_time": "2023-06-28T12:27:42.083810900Z"
        },
        "id": "Gq1nlZIhiePq",
        "outputId": "ded6a6b8-f04b-4769-c977-876865aeb05e",
        "colab": {
          "base_uri": "https://localhost:8080/",
          "height": 449
        }
      }
    },
    {
      "cell_type": "markdown",
      "source": [
        "## 3. Create Your First Linear Regression\n",
        "When performing simple linear regression, the four main components are:\n",
        "\n",
        "* Dependent Variable — Target variable / will be estimated and predicted\n",
        "* Independent Variable — Predictor variable / used to estimate and predict\n",
        "* Slope — Angle of the line / denoted as m\n",
        "* Intercept — Where function crosses the y-axis / denoted as c\n",
        "\n",
        "The last two, slope and intercept, are the coefficients/parameters of a linear regression model, so when we calculate the regression model, we’re just calculating these two. In the end, we’re trying to find the best-fit line describing the data, out of an infinite number of lines. To find the slope of a line, we can choose a random part of the line, and divide the change in x by the change in y.\n",
        "\n",
        "* Δy — Change in y\n",
        "* Δx — Change in x\n"
      ],
      "metadata": {
        "collapsed": false,
        "id": "5Hzk9xa3iePq"
      }
    },
    {
      "cell_type": "code",
      "execution_count": 38,
      "outputs": [
        {
          "output_type": "stream",
          "name": "stdout",
          "text": [
            "-0.0255947742554408 3.50469542339012\n"
          ]
        }
      ],
      "source": [
        "Δ𝑦 = ((np.mean(x1) * np.mean(y)) - np.mean(x1*y))\n",
        "Δ𝑥 = ((np.mean(x1)**2) - np.mean(x1*y))\n",
        "\n",
        "# Slope\n",
        "m = Δ𝑦 / Δ𝑥\n",
        "\n",
        "# Intercept\n",
        "c = np.mean(y) - m * np.mean(x1)\n",
        "print(m,c)"
      ],
      "metadata": {
        "ExecuteTime": {
          "end_time": "2023-06-28T12:27:42.353792700Z",
          "start_time": "2023-06-28T12:27:42.267464300Z"
        },
        "id": "dY0P27nCiePq",
        "outputId": "022cde6a-97a4-4a4f-eafc-2d4b58f0c269",
        "colab": {
          "base_uri": "https://localhost:8080/"
        }
      }
    },
    {
      "cell_type": "markdown",
      "source": [
        "## Prediction With Best Fit Line\n",
        "If we have a new value (x), we can calculate the prediction (y) with the data we already have.\n"
      ],
      "metadata": {
        "collapsed": false,
        "id": "_Vsaj11hiePr"
      }
    },
    {
      "cell_type": "code",
      "execution_count": 39,
      "outputs": [
        {
          "output_type": "execute_result",
          "data": {
            "text/plain": [
              "1.201165740400448"
            ]
          },
          "metadata": {},
          "execution_count": 39
        }
      ],
      "source": [
        "\n",
        "new_x_value = 90\n",
        "y_predicted = (m * new_x_value) + c\n",
        "y_predicted"
      ],
      "metadata": {
        "ExecuteTime": {
          "end_time": "2023-06-28T12:27:42.353792700Z",
          "start_time": "2023-06-28T12:27:42.284864400Z"
        },
        "id": "i4SN9z8PiePr",
        "outputId": "67a36943-8d03-4dc3-ea96-c9958e1bca82",
        "colab": {
          "base_uri": "https://localhost:8080/"
        }
      }
    },
    {
      "cell_type": "code",
      "execution_count": 40,
      "outputs": [
        {
          "output_type": "display_data",
          "data": {
            "text/plain": [
              "<Figure size 640x480 with 1 Axes>"
            ],
            "image/png": "[encoded data removed]"
          },
          "metadata": {}
        }
      ],
      "source": [
        "yhat=m*x1+c\n",
        "\n",
        "plt.scatter(x1,y)\n",
        "fig=plt.plot(x1,yhat, c=\"red\")\n",
        "plt.show()"
      ],
      "metadata": {
        "ExecuteTime": {
          "end_time": "2023-06-28T12:27:44.709461900Z",
          "start_time": "2023-06-28T12:27:44.529876300Z"
        },
        "id": "x5-hq--XiePr",
        "outputId": "a57cbd18-b583-4469-de5f-7415fbfdd5dd",
        "colab": {
          "base_uri": "https://localhost:8080/",
          "height": 430
        }
      }
    },
    {
      "cell_type": "markdown",
      "source": [
        " ## 4. Perform Regression with statsmodels\n"
      ],
      "metadata": {
        "collapsed": false,
        "id": "NF1_wbKRiePr"
      }
    },
    {
      "cell_type": "code",
      "execution_count": 41,
      "outputs": [
        {
          "output_type": "execute_result",
          "data": {
            "text/plain": [
              "<class 'statsmodels.iolib.summary.Summary'>\n",
              "\"\"\"\n",
              "                            OLS Regression Results                            \n",
              "==============================================================================\n",
              "Dep. Variable:                    tip   R-squared:                       0.469\n",
              "Model:                            OLS   Adj. R-squared:                  0.462\n",
              "Method:                 Least Squares   F-statistic:                     70.57\n",
              "Date:                Fri, 24 May 2024   Prob (F-statistic):           9.41e-33\n",
              "Time:                        07:54:37   Log-Likelihood:                -347.80\n",
              "No. Observations:                 244   AIC:                             703.6\n",
              "Df Residuals:                     240   BIC:                             717.6\n",
              "Df Model:                           3                                         \n",
              "Covariance Type:            nonrobust                                         \n",
              "================================================================================\n",
              "                   coef    std err          t      P>|t|      [0.025      0.975]\n",
              "--------------------------------------------------------------------------------\n",
              "Intercept        0.6256      0.207      3.026      0.003       0.218       1.033\n",
              "smoker[T.No]     0.0834      0.138      0.605      0.546      -0.188       0.355\n",
              "total_bill       0.0939      0.009     10.062      0.000       0.076       0.112\n",
              "size             0.1803      0.088      2.054      0.041       0.007       0.353\n",
              "==============================================================================\n",
              "Omnibus:                       26.545   Durbin-Watson:                   2.101\n",
              "Prob(Omnibus):                  0.000   Jarque-Bera (JB):               49.452\n",
              "Skew:                           0.584   Prob(JB):                     1.83e-11\n",
              "Kurtosis:                       4.871   Cond. No.                         73.3\n",
              "==============================================================================\n",
              "\n",
              "Notes:\n",
              "[1] Standard Errors assume that the covariance matrix of the errors is correctly specified.\n",
              "\"\"\""
            ],
            "text/html": [
              "<table class=\"simpletable\">\n",
              "<caption>OLS Regression Results</caption>\n",
              "<tr>\n",
              "  <th>Dep. Variable:</th>           <td>tip</td>       <th>  R-squared:         </th> <td>   0.469</td>\n",
              "</tr>\n",
              "<tr>\n",
              "  <th>Model:</th>                   <td>OLS</td>       <th>  Adj. R-squared:    </th> <td>   0.462</td>\n",
              "</tr>\n",
              "<tr>\n",
              "  <th>Method:</th>             <td>Least Squares</td>  <th>  F-statistic:       </th> <td>   70.57</td>\n",
              "</tr>\n",
              "<tr>\n",
              "  <th>Date:</th>             <td>Fri, 24 May 2024</td> <th>  Prob (F-statistic):</th> <td>9.41e-33</td>\n",
              "</tr>\n",
              "<tr>\n",
              "  <th>Time:</th>                 <td>07:54:37</td>     <th>  Log-Likelihood:    </th> <td> -347.80</td>\n",
              "</tr>\n",
              "<tr>\n",
              "  <th>No. Observations:</th>      <td>   244</td>      <th>  AIC:               </th> <td>   703.6</td>\n",
              "</tr>\n",
              "<tr>\n",
              "  <th>Df Residuals:</th>          <td>   240</td>      <th>  BIC:               </th> <td>   717.6</td>\n",
              "</tr>\n",
              "<tr>\n",
              "  <th>Df Model:</th>              <td>     3</td>      <th>                     </th>     <td> </td>   \n",
              "</tr>\n",
              "<tr>\n",
              "  <th>Covariance Type:</th>      <td>nonrobust</td>    <th>                     </th>     <td> </td>   \n",
              "</tr>\n",
              "</table>\n",
              "<table class=\"simpletable\">\n",
              "<tr>\n",
              "        <td></td>          <th>coef</th>     <th>std err</th>      <th>t</th>      <th>P>|t|</th>  <th>[0.025</th>    <th>0.975]</th>  \n",
              "</tr>\n",
              "<tr>\n",
              "  <th>Intercept</th>    <td>    0.6256</td> <td>    0.207</td> <td>    3.026</td> <td> 0.003</td> <td>    0.218</td> <td>    1.033</td>\n",
              "</tr>\n",
              "<tr>\n",
              "  <th>smoker[T.No]</th> <td>    0.0834</td> <td>    0.138</td> <td>    0.605</td> <td> 0.546</td> <td>   -0.188</td> <td>    0.355</td>\n",
              "</tr>\n",
              "<tr>\n",
              "  <th>total_bill</th>   <td>    0.0939</td> <td>    0.009</td> <td>   10.062</td> <td> 0.000</td> <td>    0.076</td> <td>    0.112</td>\n",
              "</tr>\n",
              "<tr>\n",
              "  <th>size</th>         <td>    0.1803</td> <td>    0.088</td> <td>    2.054</td> <td> 0.041</td> <td>    0.007</td> <td>    0.353</td>\n",
              "</tr>\n",
              "</table>\n",
              "<table class=\"simpletable\">\n",
              "<tr>\n",
              "  <th>Omnibus:</th>       <td>26.545</td> <th>  Durbin-Watson:     </th> <td>   2.101</td>\n",
              "</tr>\n",
              "<tr>\n",
              "  <th>Prob(Omnibus):</th> <td> 0.000</td> <th>  Jarque-Bera (JB):  </th> <td>  49.452</td>\n",
              "</tr>\n",
              "<tr>\n",
              "  <th>Skew:</th>          <td> 0.584</td> <th>  Prob(JB):          </th> <td>1.83e-11</td>\n",
              "</tr>\n",
              "<tr>\n",
              "  <th>Kurtosis:</th>      <td> 4.871</td> <th>  Cond. No.          </th> <td>    73.3</td>\n",
              "</tr>\n",
              "</table><br/><br/>Notes:<br/>[1] Standard Errors assume that the covariance matrix of the errors is correctly specified."
            ],
            "text/latex": "\\begin{center}\n\\begin{tabular}{lclc}\n\\toprule\n\\textbf{Dep. Variable:}    &       tip        & \\textbf{  R-squared:         } &     0.469   \\\\\n\\textbf{Model:}            &       OLS        & \\textbf{  Adj. R-squared:    } &     0.462   \\\\\n\\textbf{Method:}           &  Least Squares   & \\textbf{  F-statistic:       } &     70.57   \\\\\n\\textbf{Date:}             & Fri, 24 May 2024 & \\textbf{  Prob (F-statistic):} &  9.41e-33   \\\\\n\\textbf{Time:}             &     07:54:37     & \\textbf{  Log-Likelihood:    } &   -347.80   \\\\\n\\textbf{No. Observations:} &         244      & \\textbf{  AIC:               } &     703.6   \\\\\n\\textbf{Df Residuals:}     &         240      & \\textbf{  BIC:               } &     717.6   \\\\\n\\textbf{Df Model:}         &           3      & \\textbf{                     } &             \\\\\n\\textbf{Covariance Type:}  &    nonrobust     & \\textbf{                     } &             \\\\\n\\bottomrule\n\\end{tabular}\n\\begin{tabular}{lcccccc}\n                      & \\textbf{coef} & \\textbf{std err} & \\textbf{t} & \\textbf{P$> |$t$|$} & \\textbf{[0.025} & \\textbf{0.975]}  \\\\\n\\midrule\n\\textbf{Intercept}    &       0.6256  &        0.207     &     3.026  &         0.003        &        0.218    &        1.033     \\\\\n\\textbf{smoker[T.No]} &       0.0834  &        0.138     &     0.605  &         0.546        &       -0.188    &        0.355     \\\\\n\\textbf{total\\_bill}  &       0.0939  &        0.009     &    10.062  &         0.000        &        0.076    &        0.112     \\\\\n\\textbf{size}         &       0.1803  &        0.088     &     2.054  &         0.041        &        0.007    &        0.353     \\\\\n\\bottomrule\n\\end{tabular}\n\\begin{tabular}{lclc}\n\\textbf{Omnibus:}       & 26.545 & \\textbf{  Durbin-Watson:     } &    2.101  \\\\\n\\textbf{Prob(Omnibus):} &  0.000 & \\textbf{  Jarque-Bera (JB):  } &   49.452  \\\\\n\\textbf{Skew:}          &  0.584 & \\textbf{  Prob(JB):          } & 1.83e-11  \\\\\n\\textbf{Kurtosis:}      &  4.871 & \\textbf{  Cond. No.          } &     73.3  \\\\\n\\bottomrule\n\\end{tabular}\n%\\caption{OLS Regression Results}\n\\end{center}\n\nNotes: \\newline\n [1] Standard Errors assume that the covariance matrix of the errors is correctly specified."
          },
          "metadata": {},
          "execution_count": 41
        }
      ],
      "source": [
        "\n",
        "formula = 'tip~total_bill+smoker+size'\n",
        "\n",
        "#Fit model using Ordinary least squares method\n",
        "result =ols(formula=formula, data=data[[\"tip\",\"total_bill\",\"smoker\", \"size\"]]).fit()\n",
        "result.summary()\n"
      ],
      "metadata": {
        "ExecuteTime": {
          "end_time": "2023-06-28T12:27:42.587437400Z",
          "start_time": "2023-06-28T12:27:42.492737900Z"
        },
        "id": "-qOTF38wiePr",
        "outputId": "ad2f4c4b-b661-408b-ae92-e283dfd6e9a9",
        "colab": {
          "base_uri": "https://localhost:8080/",
          "height": 490
        }
      }
    },
    {
      "cell_type": "markdown",
      "source": [
        "It’d create 3 tables and we are mostly interested in the 2nd table which contains the coefficients, p-values, etc.\n",
        "\n",
        "From the summary table, we can say that the intercept (const) coefficient is 6.97\n",
        " and the independent variable coefficient is 0.055 (signifies if independent variable increases by 1 units, the dependent variable increases by 0.055 units)\n",
        "\n",
        "If the p-value (Prob) of the independent variable/s is greater than 0.050, we say that the variable is not significant and we may drop the variable.\n",
        "And finally, the R-squared, R² is nothing but the goodness of the fit of the model. In other words, how well our model fitted the observation. R² ranges between 0 and 1. There is no clear universal range for the best R² but, it depends on a case-to-case basis.\n",
        "\n",
        "Adjusted R² on the other hand, is a modified version of R-squared that has been adjusted for the number of predictors (inputs) in the model. The adjusted R-squared increases when the new independent term improves the model more than would be expected by chance. It decreases when a predictor improves the model by less than expected.\n"
      ],
      "metadata": {
        "collapsed": false,
        "id": "YyL1zve5iePs"
      }
    },
    {
      "cell_type": "markdown",
      "source": [
        "\n",
        "5. Plot the Regression Line\n",
        "To plot the regression line on the graph, simply define the linear regression equation, i.e., y_hat = b0 + (b1*x1)\n",
        "\n",
        "b0 = coefficient of the bias variable\n",
        "\n",
        "b1 = coefficient of the input/s variables\n",
        "\n",
        "and finally, plot the regression line using matplotlib.pyplot() as shown below:"
      ],
      "metadata": {
        "collapsed": false,
        "id": "TtSxRCz5iePs"
      }
    },
    {
      "cell_type": "code",
      "execution_count": 42,
      "outputs": [
        {
          "output_type": "stream",
          "name": "stdout",
          "text": [
            "Intercept     0.920270\n",
            "total_bill    0.105025\n",
            "dtype: float64\n"
          ]
        },
        {
          "output_type": "display_data",
          "data": {
            "text/plain": [
              "<Figure size 640x480 with 1 Axes>"
            ],
            "image/png": "[encoded data removed]"
          },
          "metadata": {}
        }
      ],
      "source": [
        "formula = 'tip~total_bill'\n",
        "\n",
        "#Fit model using Ordinary least squares method\n",
        "result =ols(formula=formula, data=data[[\"tip\",\"total_bill\"]]).fit()\n",
        "result.summary()\n",
        "\n",
        "\n",
        "\n",
        "\n",
        "print(result.params)\n",
        "m=result.params[1]\n",
        "c=result.params[0]\n",
        "yhat=m*x1+c\n",
        "\n",
        "plt.scatter(x1,y)\n",
        "fig=plt.plot(x1,yhat, c=\"red\")\n",
        "plt.show()"
      ],
      "metadata": {
        "ExecuteTime": {
          "end_time": "2023-06-28T12:27:42.771071400Z",
          "start_time": "2023-06-28T12:27:42.539592Z"
        },
        "id": "Yg_FQhBpiePs",
        "outputId": "7b30f280-e954-4ce4-b824-074e39e9ae67",
        "colab": {
          "base_uri": "https://localhost:8080/",
          "height": 485
        }
      }
    }
  ],
  "metadata": {
    "kernelspec": {
      "display_name": "Python 3",
      "language": "python",
      "name": "python3"
    },
    "language_info": {
      "codemirror_mode": {
        "name": "ipython",
        "version": 2
      },
      "file_extension": ".py",
      "mimetype": "text/x-python",
      "name": "python",
      "nbconvert_exporter": "python",
      "pygments_lexer": "ipython2",
      "version": "2.7.6"
    },
    "colab": {
      "provenance": []
    }
  },
  "nbformat": 4,
  "nbformat_minor": 0
}
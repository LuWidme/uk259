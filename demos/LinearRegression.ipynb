{
 "cells": [
  {
   "cell_type": "markdown",
   "source": [
    "# Building a linear regression model\n",
    "\n",
    "To build a linear regression model in python, we’ll follow five steps:\n",
    "\n",
    "* Reading and understanding the data\n",
    "* Visualizing the data\n",
    "* Performing simple linear regression\n",
    "* Residual analysis\n",
    "* Predictions on the test set\n",
    "\n",
    "\n",
    "NumPy — used to perform mathematical operations mainly using multi-dimensional arrays.\n",
    "pandas — used for data manipulation and analysis.\n",
    "matplotlib — it is a plotting library as a component of NumPy\n",
    "statsmodels — it is used to explore data, estimate statistical models and perform statistical tests.\n",
    "\n",
    "\n"
   ],
   "metadata": {
    "collapsed": false
   }
  },
  {
   "cell_type": "markdown",
   "source": [
    "\n",
    "![img](../img/1_N1-K-A43_98pYZ27fnupDA%20(1).jpg)"
   ],
   "metadata": {
    "collapsed": false
   }
  },
  {
   "cell_type": "markdown",
   "source": [
    "[Adevertising Dataset Kaggle](https://www.kaggle.com/datasets/bumba5341/advertisingcsv)\n",
    "Adapted from [here](https://towardsdatascience.com/linear-regression-explained-1b36f97b7572)"
   ],
   "metadata": {
    "collapsed": false
   }
  },
  {
   "cell_type": "code",
   "execution_count": 55,
   "outputs": [],
   "source": [
    "import numpy as np\n",
    "import pandas as pd\n",
    "import seaborn as sns\n",
    "import matplotlib.pyplot as plt\n",
    "from statsmodels.formula.api import ols"
   ],
   "metadata": {
    "collapsed": false,
    "ExecuteTime": {
     "end_time": "2023-06-28T12:27:42.123411Z",
     "start_time": "2023-06-28T12:27:41.996213500Z"
    }
   }
  },
  {
   "cell_type": "markdown",
   "source": [
    "## 1. Import the Dataset\n"
   ],
   "metadata": {
    "collapsed": false
   }
  },
  {
   "cell_type": "code",
   "execution_count": 56,
   "outputs": [],
   "source": [
    "data = pd.read_csv(\"../datasets/Company_data.csv\")"
   ],
   "metadata": {
    "collapsed": false,
    "ExecuteTime": {
     "end_time": "2023-06-28T12:27:42.162765Z",
     "start_time": "2023-06-28T12:27:42.015545100Z"
    }
   }
  },
  {
   "cell_type": "markdown",
   "source": [
    "## 2. Descriptive Statistics\n",
    "It is a good practice beforehand to get apprised with the descriptive statistics as it helps us to understand the dataset (eg. — are there any outliers present, etc.)\n",
    "\n",
    "We can perform descriptive statistics using the following command:"
   ],
   "metadata": {
    "collapsed": false
   }
  },
  {
   "cell_type": "code",
   "execution_count": 57,
   "outputs": [
    {
     "name": "stdout",
     "output_type": "stream",
     "text": [
      "      TV  Radio  Newspaper  Sales\n",
      "0  230.1   37.8       69.2   22.1\n",
      "1   44.5   39.3       45.1   10.4\n",
      "2   17.2   45.9       69.3   12.0\n",
      "3  151.5   41.3       58.5   16.5\n",
      "4  180.8   10.8       58.4   17.9\n"
     ]
    },
    {
     "data": {
      "text/plain": "               TV       Radio   Newspaper       Sales\ncount  200.000000  200.000000  200.000000  200.000000\nmean   147.042500   23.264000   30.554000   15.130500\nstd     85.854236   14.846809   21.778621    5.283892\nmin      0.700000    0.000000    0.300000    1.600000\n25%     74.375000    9.975000   12.750000   11.000000\n50%    149.750000   22.900000   25.750000   16.000000\n75%    218.825000   36.525000   45.100000   19.050000\nmax    296.400000   49.600000  114.000000   27.000000",
      "text/html": "<div>\n<style scoped>\n    .dataframe tbody tr th:only-of-type {\n        vertical-align: middle;\n    }\n\n    .dataframe tbody tr th {\n        vertical-align: top;\n    }\n\n    .dataframe thead th {\n        text-align: right;\n    }\n</style>\n<table border=\"1\" class=\"dataframe\">\n  <thead>\n    <tr style=\"text-align: right;\">\n      <th></th>\n      <th>TV</th>\n      <th>Radio</th>\n      <th>Newspaper</th>\n      <th>Sales</th>\n    </tr>\n  </thead>\n  <tbody>\n    <tr>\n      <th>count</th>\n      <td>200.000000</td>\n      <td>200.000000</td>\n      <td>200.000000</td>\n      <td>200.000000</td>\n    </tr>\n    <tr>\n      <th>mean</th>\n      <td>147.042500</td>\n      <td>23.264000</td>\n      <td>30.554000</td>\n      <td>15.130500</td>\n    </tr>\n    <tr>\n      <th>std</th>\n      <td>85.854236</td>\n      <td>14.846809</td>\n      <td>21.778621</td>\n      <td>5.283892</td>\n    </tr>\n    <tr>\n      <th>min</th>\n      <td>0.700000</td>\n      <td>0.000000</td>\n      <td>0.300000</td>\n      <td>1.600000</td>\n    </tr>\n    <tr>\n      <th>25%</th>\n      <td>74.375000</td>\n      <td>9.975000</td>\n      <td>12.750000</td>\n      <td>11.000000</td>\n    </tr>\n    <tr>\n      <th>50%</th>\n      <td>149.750000</td>\n      <td>22.900000</td>\n      <td>25.750000</td>\n      <td>16.000000</td>\n    </tr>\n    <tr>\n      <th>75%</th>\n      <td>218.825000</td>\n      <td>36.525000</td>\n      <td>45.100000</td>\n      <td>19.050000</td>\n    </tr>\n    <tr>\n      <th>max</th>\n      <td>296.400000</td>\n      <td>49.600000</td>\n      <td>114.000000</td>\n      <td>27.000000</td>\n    </tr>\n  </tbody>\n</table>\n</div>"
     },
     "execution_count": 57,
     "metadata": {},
     "output_type": "execute_result"
    }
   ],
   "source": [
    "print(data.head())\n",
    "data.describe()\n"
   ],
   "metadata": {
    "collapsed": false,
    "ExecuteTime": {
     "end_time": "2023-06-28T12:27:42.162765Z",
     "start_time": "2023-06-28T12:27:42.042030700Z"
    }
   }
  },
  {
   "cell_type": "markdown",
   "source": [],
   "metadata": {
    "collapsed": false
   }
  },
  {
   "cell_type": "code",
   "execution_count": 58,
   "outputs": [
    {
     "data": {
      "text/plain": "<Figure size 432x288 with 1 Axes>",
      "image/png": "[encoded data removed]"
     },
     "metadata": {},
     "output_type": "display_data"
    }
   ],
   "source": [
    "y=data[\"Sales\"]\n",
    "x1= data [\"TV\"]\n",
    "plt.scatter(x1,y)\n",
    "plt.xlabel(\"TV \")\n",
    "\n",
    "plt.ylabel(\"Sales\")\n",
    "plt.show()"
   ],
   "metadata": {
    "collapsed": false,
    "ExecuteTime": {
     "end_time": "2023-06-28T12:27:42.353150200Z",
     "start_time": "2023-06-28T12:27:42.083810900Z"
    }
   }
  },
  {
   "cell_type": "markdown",
   "source": [
    "## 3. Create Your First Linear Regression\n",
    "When performing simple linear regression, the four main components are:\n",
    "\n",
    "* Dependent Variable — Target variable / will be estimated and predicted\n",
    "* Independent Variable — Predictor variable / used to estimate and predict\n",
    "* Slope — Angle of the line / denoted as m\n",
    "* Intercept — Where function crosses the y-axis / denoted as c\n",
    "\n",
    "The last two, slope and intercept, are the coefficients/parameters of a linear regression model, so when we calculate the regression model, we’re just calculating these two. In the end, we’re trying to find the best-fit line describing the data, out of an infinite number of lines. To find the slope of a line, we can choose a random part of the line, and divide the change in x by the change in y.\n",
    "\n",
    "* Δy — Change in y\n",
    "* Δx — Change in x\n"
   ],
   "metadata": {
    "collapsed": false
   }
  },
  {
   "cell_type": "code",
   "execution_count": 59,
   "outputs": [
    {
     "name": "stdout",
     "output_type": "stream",
     "text": [
      "-0.021421081523013787 18.280309379847758\n"
     ]
    }
   ],
   "source": [
    "Δ𝑦 = ((np.mean(x1) * np.mean(y)) - np.mean(x1*y))\n",
    "Δ𝑥 = ((np.mean(x1)**2) - np.mean(x1*y))\n",
    "\n",
    "# Slope\n",
    "m = Δ𝑦 / Δ𝑥\n",
    "\n",
    "# Intercept\n",
    "c = np.mean(y) - m * np.mean(x1)\n",
    "print(m,c)"
   ],
   "metadata": {
    "collapsed": false,
    "ExecuteTime": {
     "end_time": "2023-06-28T12:27:42.353792700Z",
     "start_time": "2023-06-28T12:27:42.267464300Z"
    }
   }
  },
  {
   "cell_type": "markdown",
   "source": [
    "## Prediction With Best Fit Line\n",
    "If we have a new value (x), we can calculate the prediction (y) with the data we already have.\n"
   ],
   "metadata": {
    "collapsed": false
   }
  },
  {
   "cell_type": "code",
   "execution_count": 60,
   "outputs": [
    {
     "data": {
      "text/plain": "18.087519646140635"
     },
     "execution_count": 60,
     "metadata": {},
     "output_type": "execute_result"
    }
   ],
   "source": [
    "\n",
    "new_x_value = 9\n",
    "y_predicted = (m * new_x_value) + c\n",
    "y_predicted"
   ],
   "metadata": {
    "collapsed": false,
    "ExecuteTime": {
     "end_time": "2023-06-28T12:27:42.353792700Z",
     "start_time": "2023-06-28T12:27:42.284864400Z"
    }
   }
  },
  {
   "cell_type": "code",
   "execution_count": 64,
   "outputs": [
    {
     "data": {
      "text/plain": "<Figure size 432x288 with 1 Axes>",
      "image/png": "[encoded data removed]"
     },
     "metadata": {},
     "output_type": "display_data"
    }
   ],
   "source": [
    "yhat=m*x1+c\n",
    "\n",
    "plt.scatter(x1,y)\n",
    "fig=plt.plot(x1,yhat, c=\"red\")\n",
    "plt.show()"
   ],
   "metadata": {
    "collapsed": false,
    "ExecuteTime": {
     "end_time": "2023-06-28T12:27:44.709461900Z",
     "start_time": "2023-06-28T12:27:44.529876300Z"
    }
   }
  },
  {
   "cell_type": "markdown",
   "source": [
    " ## 4. Perform Regression with statsmodels\n"
   ],
   "metadata": {
    "collapsed": false
   }
  },
  {
   "cell_type": "code",
   "execution_count": 62,
   "outputs": [
    {
     "data": {
      "text/plain": "<class 'statsmodels.iolib.summary.Summary'>\n\"\"\"\n                            OLS Regression Results                            \n==============================================================================\nDep. Variable:                  Sales   R-squared:                       0.812\nModel:                            OLS   Adj. R-squared:                  0.811\nMethod:                 Least Squares   F-statistic:                     856.2\nDate:                Wed, 28 Jun 2023   Prob (F-statistic):           7.93e-74\nTime:                        14:27:42   Log-Likelihood:                -448.99\nNo. Observations:                 200   AIC:                             902.0\nDf Residuals:                     198   BIC:                             908.6\nDf Model:                           1                                         \nCovariance Type:            nonrobust                                         \n==============================================================================\n                 coef    std err          t      P>|t|      [0.025      0.975]\n------------------------------------------------------------------------------\nIntercept      6.9748      0.323     21.624      0.000       6.339       7.611\nTV             0.0555      0.002     29.260      0.000       0.052       0.059\n==============================================================================\nOmnibus:                        0.013   Durbin-Watson:                   2.029\nProb(Omnibus):                  0.993   Jarque-Bera (JB):                0.043\nSkew:                          -0.018   Prob(JB):                        0.979\nKurtosis:                       2.938   Cond. No.                         338.\n==============================================================================\n\nNotes:\n[1] Standard Errors assume that the covariance matrix of the errors is correctly specified.\n\"\"\"",
      "text/html": "<table class=\"simpletable\">\n<caption>OLS Regression Results</caption>\n<tr>\n  <th>Dep. Variable:</th>          <td>Sales</td>      <th>  R-squared:         </th> <td>   0.812</td>\n</tr>\n<tr>\n  <th>Model:</th>                   <td>OLS</td>       <th>  Adj. R-squared:    </th> <td>   0.811</td>\n</tr>\n<tr>\n  <th>Method:</th>             <td>Least Squares</td>  <th>  F-statistic:       </th> <td>   856.2</td>\n</tr>\n<tr>\n  <th>Date:</th>             <td>Wed, 28 Jun 2023</td> <th>  Prob (F-statistic):</th> <td>7.93e-74</td>\n</tr>\n<tr>\n  <th>Time:</th>                 <td>14:27:42</td>     <th>  Log-Likelihood:    </th> <td> -448.99</td>\n</tr>\n<tr>\n  <th>No. Observations:</th>      <td>   200</td>      <th>  AIC:               </th> <td>   902.0</td>\n</tr>\n<tr>\n  <th>Df Residuals:</th>          <td>   198</td>      <th>  BIC:               </th> <td>   908.6</td>\n</tr>\n<tr>\n  <th>Df Model:</th>              <td>     1</td>      <th>                     </th>     <td> </td>   \n</tr>\n<tr>\n  <th>Covariance Type:</th>      <td>nonrobust</td>    <th>                     </th>     <td> </td>   \n</tr>\n</table>\n<table class=\"simpletable\">\n<tr>\n      <td></td>         <th>coef</th>     <th>std err</th>      <th>t</th>      <th>P>|t|</th>  <th>[0.025</th>    <th>0.975]</th>  \n</tr>\n<tr>\n  <th>Intercept</th> <td>    6.9748</td> <td>    0.323</td> <td>   21.624</td> <td> 0.000</td> <td>    6.339</td> <td>    7.611</td>\n</tr>\n<tr>\n  <th>TV</th>        <td>    0.0555</td> <td>    0.002</td> <td>   29.260</td> <td> 0.000</td> <td>    0.052</td> <td>    0.059</td>\n</tr>\n</table>\n<table class=\"simpletable\">\n<tr>\n  <th>Omnibus:</th>       <td> 0.013</td> <th>  Durbin-Watson:     </th> <td>   2.029</td>\n</tr>\n<tr>\n  <th>Prob(Omnibus):</th> <td> 0.993</td> <th>  Jarque-Bera (JB):  </th> <td>   0.043</td>\n</tr>\n<tr>\n  <th>Skew:</th>          <td>-0.018</td> <th>  Prob(JB):          </th> <td>   0.979</td>\n</tr>\n<tr>\n  <th>Kurtosis:</th>      <td> 2.938</td> <th>  Cond. No.          </th> <td>    338.</td>\n</tr>\n</table><br/><br/>Notes:<br/>[1] Standard Errors assume that the covariance matrix of the errors is correctly specified."
     },
     "execution_count": 62,
     "metadata": {},
     "output_type": "execute_result"
    }
   ],
   "source": [
    "\n",
    "formula = 'Sales~TV'\n",
    "\n",
    "#Fit model using Ordinary least squares method\n",
    "result =ols(formula=formula, data=data[[\"Sales\",\"TV\"]]).fit()\n",
    "result.summary()\n"
   ],
   "metadata": {
    "collapsed": false,
    "ExecuteTime": {
     "end_time": "2023-06-28T12:27:42.587437400Z",
     "start_time": "2023-06-28T12:27:42.492737900Z"
    }
   }
  },
  {
   "cell_type": "markdown",
   "source": [
    "It’d create 3 tables and we are mostly interested in the 2nd table which contains the coefficients, p-values, etc.\n",
    "\n",
    "From the summary table, we can say that the intercept (const) coefficient is 6.97\n",
    " and the independent variable coefficient is 0.055 (signifies if independent variable increases by 1 units, the dependent variable increases by 0.055 units)\n",
    "\n",
    "If the p-value (Prob) of the independent variable/s is greater than 0.050, we say that the variable is not significant and we may drop the variable.\n",
    "And finally, the R-squared, R² is nothing but the goodness of the fit of the model. In other words, how well our model fitted the observation. R² ranges between 0 and 1. There is no clear universal range for the best R² but, it depends on a case-to-case basis.\n",
    "\n",
    "Adjusted R² on the other hand, is a modified version of R-squared that has been adjusted for the number of predictors (inputs) in the model. The adjusted R-squared increases when the new independent term improves the model more than would be expected by chance. It decreases when a predictor improves the model by less than expected.\n"
   ],
   "metadata": {
    "collapsed": false
   }
  },
  {
   "cell_type": "markdown",
   "source": [
    "\n",
    "5. Plot the Regression Line\n",
    "To plot the regression line on the graph, simply define the linear regression equation, i.e., y_hat = b0 + (b1*x1)\n",
    "\n",
    "b0 = coefficient of the bias variable\n",
    "\n",
    "b1 = coefficient of the input/s variables\n",
    "\n",
    "and finally, plot the regression line using matplotlib.pyplot() as shown below:"
   ],
   "metadata": {
    "collapsed": false
   }
  },
  {
   "cell_type": "code",
   "execution_count": 63,
   "outputs": [
    {
     "name": "stdout",
     "output_type": "stream",
     "text": [
      "Intercept    6.974821\n",
      "TV           0.055465\n",
      "dtype: float64\n"
     ]
    },
    {
     "data": {
      "text/plain": "<Figure size 432x288 with 1 Axes>",
      "image/png": "[encoded data removed]"
     },
     "metadata": {},
     "output_type": "display_data"
    }
   ],
   "source": [
    "print(result.params)\n",
    "m=result.params[1]\n",
    "c=result.params[0]\n",
    "yhat=m*x1+c\n",
    "\n",
    "plt.scatter(x1,y)\n",
    "fig=plt.plot(x1,yhat, c=\"red\")\n",
    "plt.show()"
   ],
   "metadata": {
    "collapsed": false,
    "ExecuteTime": {
     "end_time": "2023-06-28T12:27:42.771071400Z",
     "start_time": "2023-06-28T12:27:42.539592Z"
    }
   }
  }
 ],
 "metadata": {
  "kernelspec": {
   "display_name": "Python 3",
   "language": "python",
   "name": "python3"
  },
  "language_info": {
   "codemirror_mode": {
    "name": "ipython",
    "version": 2
   },
   "file_extension": ".py",
   "mimetype": "text/x-python",
   "name": "python",
   "nbconvert_exporter": "python",
   "pygments_lexer": "ipython2",
   "version": "2.7.6"
  }
 },
 "nbformat": 4,
 "nbformat_minor": 0
}

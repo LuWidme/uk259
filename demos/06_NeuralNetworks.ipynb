{
 "cells": [
  {
   "attachments": {},
   "cell_type": "markdown",
   "metadata": {
    "id": "3wF5wszaj97Y"
   },
   "source": [
    "# Working with Neural Networks ssing Tensorflow\n",
    "\n",
    "<a target=\"_blank\" href=\"https://colab.research.google.com/github/LuWidme/uk259/blob/05f7e58e35048d2ee227109791520f41d34b7343/demos/NN%20in%20tensowrflow.ipynb\">\n",
    "  <img src=\"https://colab.research.google.com/assets/colab-badge.svg\" alt=\"Open In Colab\"/>\n",
    "</a>"
   ]
  },
  {
   "cell_type": "code",
   "metadata": {
    "id": "7FP5258xjs-v",
    "tags": [],
    "ExecuteTime": {
     "end_time": "2025-06-24T17:38:45.233798Z",
     "start_time": "2025-06-24T17:38:44.760209Z"
    }
   },
   "source": [
    "import tensorflow.keras as ks\n",
    "import tensorflow as tf\n",
    "mnist = ks.datasets.mnist\n",
    "(x_train, y_train), (x_test, y_test) = mnist.load_data() # 70'000 handwritten digits\n",
    "# scale data to [0,1] range\n",
    "x_train, x_test = x_train / 255.0, x_test / 255.0"
   ],
   "outputs": [],
   "execution_count": 17
  },
  {
   "cell_type": "code",
   "metadata": {
    "ExecuteTime": {
     "end_time": "2025-06-24T17:38:45.249860Z",
     "start_time": "2025-06-24T17:38:45.240481Z"
    }
   },
   "source": [
    "#attention: usig matplot and tensorflow in the same noetbooks may cause crashes in some cases\n",
    "\n",
    "# from matplotlib import pyplot as plt\n",
    "# plt.imshow(x_train[0], interpolation='nearest')\n",
    "# plt.show()\n",
    "\n",
    "# print(\"Label: \", y_train[0])"
   ],
   "outputs": [],
   "execution_count": 18
  },
  {
   "attachments": {},
   "cell_type": "markdown",
   "metadata": {
    "id": "BPZ68wASog_I"
   },
   "source": [
    "## Build a machine learning model\n",
    "\n",
    "Build a `tf.keras.Sequential` model by stacking layers."
   ]
  },
  {
   "cell_type": "code",
   "metadata": {
    "id": "h3IKyzTCDNGo",
    "tags": [],
    "ExecuteTime": {
     "end_time": "2025-06-24T17:52:43.195380Z",
     "start_time": "2025-06-24T17:52:43.128566Z"
    }
   },
   "source": [
    "model = ks.models.Sequential([\n",
    "  #Input layer created implicitly\n",
    "  ks.layers.Flatten(input_shape=(28, 28)),#  reshape input (28 x 28) array to 1-D array, creating 784 nodes, one for each pixel\n",
    "  ks.layers.Dense(128, activation='relu'), # Dense: all (128) nodes are connected to all preceding nodes\n",
    "  ks.layers.Dense(10) # this is our output layer, with one node for each number\n",
    "])\n",
    "\n",
    "model.summary()\n"
   ],
   "outputs": [
    {
     "name": "stdout",
     "output_type": "stream",
     "text": [
      "Model: \"sequential_16\"\n",
      "_________________________________________________________________\n",
      " Layer (type)                Output Shape              Param #   \n",
      "=================================================================\n",
      " conv2d_16 (Conv2D)          (None, 26, 26, 3)         30        \n",
      "                                                                 \n",
      " max_pooling2d_3 (MaxPooling  (None, 13, 13, 3)        0         \n",
      " 2D)                                                             \n",
      "                                                                 \n",
      " flatten_4 (Flatten)         (None, 507)               0         \n",
      "                                                                 \n",
      " dense_29 (Dense)            (None, 100)               50800     \n",
      "                                                                 \n",
      " dense_30 (Dense)            (None, 10)                1010      \n",
      "                                                                 \n",
      "=================================================================\n",
      "Total params: 51,840\n",
      "Trainable params: 51,840\n",
      "Non-trainable params: 0\n",
      "_________________________________________________________________\n"
     ]
    }
   ],
   "execution_count": 56
  },
  {
   "attachments": {},
   "cell_type": "markdown",
   "metadata": {
    "id": "l2hiez2eIUz8"
   },
   "source": []
  },
  {
   "attachments": {},
   "cell_type": "markdown",
   "metadata": {},
   "source": [
    "For each example, the model returns a vector of [logits](https://developers.google.com/machine-learning/glossary#logits) or [log-odds](https://developers.google.com/machine-learning/glossary#log-odds) scores, one for each class."
   ]
  },
  {
   "cell_type": "code",
   "metadata": {
    "id": "OeOrNdnkEEcR",
    "tags": [],
    "ExecuteTime": {
     "end_time": "2025-06-24T17:52:43.260075Z",
     "start_time": "2025-06-24T17:52:43.236610Z"
    }
   },
   "source": [
    "predictions = model(x_train[:1]).numpy()\n",
    "predictions"
   ],
   "outputs": [
    {
     "data": {
      "text/plain": [
       "array([[-0.24996652, -0.01613806, -0.3140773 , -0.5564004 ,  0.6531193 ,\n",
       "         0.23476408, -1.0719975 ,  1.716434  , -0.60812116, -0.24009037]],\n",
       "      dtype=float32)"
      ]
     },
     "execution_count": 57,
     "metadata": {},
     "output_type": "execute_result"
    }
   ],
   "execution_count": 57
  },
  {
   "attachments": {},
   "cell_type": "markdown",
   "metadata": {
    "id": "tgjhDQGcIniO"
   },
   "source": [
    "The `tf.nn.softmax` function converts these logits to *probabilities* for each class: "
   ]
  },
  {
   "cell_type": "code",
   "metadata": {
    "id": "zWSRnQ0WI5eq",
    "tags": [],
    "ExecuteTime": {
     "end_time": "2025-06-24T17:52:43.289896Z",
     "start_time": "2025-06-24T17:52:43.278119Z"
    }
   },
   "source": [
    "tf.nn.softmax(predictions).numpy()"
   ],
   "outputs": [
    {
     "data": {
      "text/plain": [
       "array([[0.05773113, 0.07293911, 0.05414608, 0.04249399, 0.14243451,\n",
       "        0.0937402 , 0.02537502, 0.41248384, 0.04035204, 0.05830411]],\n",
       "      dtype=float32)"
      ]
     },
     "execution_count": 58,
     "metadata": {},
     "output_type": "execute_result"
    }
   ],
   "execution_count": 58
  },
  {
   "attachments": {},
   "cell_type": "markdown",
   "metadata": {
    "id": "he5u_okAYS4a"
   },
   "source": [
    "Note: It is possible to bake the `tf.nn.softmax` function into the activation function for the last layer of the network. While this can make the model output more directly interpretable, this approach is discouraged as it's impossible to provide an exact and numerically stable loss calculation for all models when using a softmax output. "
   ]
  },
  {
   "attachments": {},
   "cell_type": "markdown",
   "metadata": {
    "id": "hQyugpgRIyrA"
   },
   "source": [
    "Define a loss function for training using `losses.SparseCategoricalCrossentropy`, which takes a vector of logits and a `True` index and returns a scalar loss for each example."
   ]
  },
  {
   "cell_type": "code",
   "metadata": {
    "id": "RSkzdv8MD0tT",
    "tags": [],
    "ExecuteTime": {
     "end_time": "2025-06-24T17:52:43.323532Z",
     "start_time": "2025-06-24T17:52:43.303574Z"
    }
   },
   "source": [
    "loss_fn = tf.keras.losses.SparseCategoricalCrossentropy(from_logits=True)"
   ],
   "outputs": [],
   "execution_count": 59
  },
  {
   "attachments": {},
   "cell_type": "markdown",
   "metadata": {
    "id": "SfR4MsSDU880"
   },
   "source": [
    "This loss is equal to the negative log probability of the true class: The loss is zero if the model is sure of the correct class.\n",
    "\n",
    "This *untrained model* gives probabilities close to random (1/10 for each class), so the initial loss should be close to `-tf.math.log(1/10) ~= 2.3`."
   ]
  },
  {
   "cell_type": "code",
   "metadata": {
    "id": "NJWqEVrrJ7ZB",
    "tags": [],
    "ExecuteTime": {
     "end_time": "2025-06-24T17:52:43.358773Z",
     "start_time": "2025-06-24T17:52:43.337048Z"
    }
   },
   "source": [
    "loss_fn(y_train[:1], predictions).numpy()"
   ],
   "outputs": [
    {
     "data": {
      "text/plain": [
       "2.8420825"
      ]
     },
     "execution_count": 60,
     "metadata": {},
     "output_type": "execute_result"
    }
   ],
   "execution_count": 60
  },
  {
   "attachments": {},
   "cell_type": "markdown",
   "metadata": {
    "id": "ada44eb947d4"
   },
   "source": [
    "Before you start training, configure and compile the model using Keras `Model.compile`. Set the [`optimizer`](https://www.tensorflow.org/api_docs/python/tf/keras/optimizers) class to `adam`, set the `loss` to the `loss_fn` function you defined earlier, and specify a metric to be evaluated for the model by setting the `metrics` parameter to `accuracy`."
   ]
  },
  {
   "cell_type": "code",
   "metadata": {
    "id": "9foNKHzTD2Vo",
    "tags": [],
    "ExecuteTime": {
     "end_time": "2025-06-24T17:52:43.392690Z",
     "start_time": "2025-06-24T17:52:43.377923Z"
    }
   },
   "source": [
    "model.compile(optimizer='adam',\n",
    "              loss=loss_fn,\n",
    "              metrics=['accuracy'])\n"
   ],
   "outputs": [],
   "execution_count": 61
  },
  {
   "attachments": {},
   "cell_type": "markdown",
   "metadata": {
    "id": "ix4mEL65on-w"
   },
   "source": [
    "## Train and evaluate your model\n",
    "Now its tiem to **train** our model, meanning we use labled data to tune our model such that the predicted labels mach as closely as possible to the actual labels. We do this over many *steps* in multiple *epochs*;\n",
    "\n",
    "* Epoch: A training epoch represents a complete use of all training data for gradients calculation and optimizations(train the model).\n",
    "\n",
    "* Step: A training step means using one batch size of training data to train the model.\n",
    "\n",
    "Use the `Model.fit` method to adjust your model parameters and minimize the loss (i.e. *train* the model). The training will take up to a minute and you can ovserve how the loss and accuracy on the test dataset change over time: "
   ]
  },
  {
   "cell_type": "code",
   "metadata": {
    "id": "y7suUbJXVLqP",
    "tags": [],
    "ExecuteTime": {
     "end_time": "2025-06-24T17:53:13.172584Z",
     "start_time": "2025-06-24T17:52:43.402161Z"
    }
   },
   "source": [
    "model.fit(x_train, y_train, epochs=5)"
   ],
   "outputs": [
    {
     "name": "stdout",
     "output_type": "stream",
     "text": [
      "Epoch 1/5\n",
      "1875/1875 [==============================] - 7s 3ms/step - loss: 0.4871 - accuracy: 0.8260\n",
      "Epoch 2/5\n",
      "1875/1875 [==============================] - 5s 3ms/step - loss: 0.3526 - accuracy: 0.8711\n",
      "Epoch 3/5\n",
      "1875/1875 [==============================] - 6s 3ms/step - loss: 0.3090 - accuracy: 0.8868\n",
      "Epoch 4/5\n",
      "1875/1875 [==============================] - 5s 3ms/step - loss: 0.2784 - accuracy: 0.8981\n",
      "Epoch 5/5\n",
      "1875/1875 [==============================] - 5s 3ms/step - loss: 0.2582 - accuracy: 0.9044\n"
     ]
    },
    {
     "data": {
      "text/plain": [
       "<keras.callbacks.History at 0x2235a1b0670>"
      ]
     },
     "execution_count": 62,
     "metadata": {},
     "output_type": "execute_result"
    }
   ],
   "execution_count": 62
  },
  {
   "attachments": {},
   "cell_type": "markdown",
   "metadata": {
    "id": "4mDAAPFqVVgn"
   },
   "source": [
    "\n",
    "Congartualtions! you just trained your first Neural Network model!\n",
    "\n",
    "\n",
    "The `Model.evaluate` method checks the models performance, usually on a \"[Validation-set](https://developers.google.com/machine-learning/glossary#validation-set)\" or \"[Test-set](https://developers.google.com/machine-learning/glossary#test-set)\".\n",
    "\n",
    "For this we let the model predict the label of a dataset it was not trained on and check how acurate it was."
   ]
  },
  {
   "cell_type": "code",
   "metadata": {
    "id": "F7dTAzgHDUh7",
    "tags": [],
    "ExecuteTime": {
     "end_time": "2025-06-24T17:53:14.208919Z",
     "start_time": "2025-06-24T17:53:13.189978Z"
    }
   },
   "source": [
    "model.evaluate(x_test,  y_test, verbose=2)"
   ],
   "outputs": [
    {
     "name": "stdout",
     "output_type": "stream",
     "text": [
      "313/313 - 1s - loss: 0.2962 - accuracy: 0.8930 - 941ms/epoch - 3ms/step\n"
     ]
    },
    {
     "data": {
      "text/plain": [
       "[0.296237051486969, 0.8930000066757202]"
      ]
     },
     "execution_count": 63,
     "metadata": {},
     "output_type": "execute_result"
    }
   ],
   "execution_count": 63
  },
  {
   "attachments": {},
   "cell_type": "markdown",
   "metadata": {
    "id": "T4JfEh7kvx6m"
   },
   "source": [
    "The image classifier is now trained to ~98% accuracy on this dataset. To learn more, read the [TensorFlow tutorials](https://www.tensorflow.org/tutorials/)."
   ]
  },
  {
   "attachments": {},
   "cell_type": "markdown",
   "metadata": {
    "id": "Aj8NrlzlJqDG"
   },
   "source": [
    "If you want your model to return a probability, you can wrap the trained model, and attach the softmax to it:"
   ]
  },
  {
   "cell_type": "code",
   "metadata": {
    "id": "rYb6DrEH0GMv",
    "tags": [],
    "ExecuteTime": {
     "end_time": "2025-06-24T17:53:14.269115Z",
     "start_time": "2025-06-24T17:53:14.237474Z"
    }
   },
   "source": [
    "probability_model = tf.keras.Sequential([\n",
    "  model,\n",
    "  tf.keras.layers.Softmax()\n",
    "])"
   ],
   "outputs": [],
   "execution_count": 64
  },
  {
   "attachments": {},
   "cell_type": "markdown",
   "metadata": {},
   "source": [
    "For example, lets predict the label of the first entry in the test dataset"
   ]
  },
  {
   "cell_type": "code",
   "metadata": {
    "id": "cnqOZtUp1YR_",
    "tags": [],
    "ExecuteTime": {
     "end_time": "2025-06-24T17:53:14.303761Z",
     "start_time": "2025-06-24T17:53:14.269524Z"
    }
   },
   "source": [
    "import numpy as np\n",
    "Prediction= probability_model(x_test[:1])\n",
    "print(Prediction)\n",
    "\n",
    "print(\"True Label: {} \\nPredicted Label: {} with probability: {:0.3f} %\".format(np.argmax(Prediction),y_test[0] ,Prediction[0,np.argmax(Prediction)]*100))"
   ],
   "outputs": [
    {
     "name": "stdout",
     "output_type": "stream",
     "text": [
      "tf.Tensor(\n",
      "[[7.65593450e-06 8.93769879e-07 8.90037981e-08 1.15536466e-07\n",
      "  2.51213550e-07 6.46695669e-04 1.27561805e-06 8.90392531e-03\n",
      "  2.25380063e-04 9.90213811e-01]], shape=(1, 10), dtype=float32)\n",
      "True Label: 9 \n",
      "Predicted Label: 9 with probability: 99.021 %\n"
     ]
    }
   ],
   "execution_count": 65
  },
  {
   "attachments": {},
   "cell_type": "markdown",
   "metadata": {
    "id": "-47O6_GLdRuT"
   },
   "source": [
    "## Conclusion\n",
    "\n",
    "Congratulations! You have trained a machine learning model using a prebuilt dataset using the [Keras](https://www.tensorflow.org/guide/keras/overview) API.\n",
    "\n",
    "For more examples of using Keras, check out the [tutorials](https://www.tensorflow.org/tutorials/keras/). To learn more about building models with Keras, read the [guides](https://www.tensorflow.org/guide/keras). If you want learn more about loading and preparing data, see the tutorials on [image data loading](https://www.tensorflow.org/tutorials/load_data/images) or [CSV data loading](https://www.tensorflow.org/tutorials/load_data/csv).\n",
    "\n",
    "\n",
    "*adapted from : https://www.tensorflow.org/tutorials/quickstart/beginner*"
   ]
  },
  {
   "metadata": {},
   "cell_type": "markdown",
   "source": [
    "## Exercise\n",
    "\n",
    "Load the [MNist Clothing dataset](https://www.tensorflow.org/datasets/catalog/fashion_mnist) and repeat the steps above to train a neural network model that can categorize different clothing items based on images. You may need to use a more complex network, or you can try to use [convolution layers](\"https://www.tensorflow.org/api_docs/python/tf/keras/layers/Conv2D\") instead of fully connected (Dense Layers) as they usually perform better on image-recognition tasks."
   ]
  },
  {
   "metadata": {
    "ExecuteTime": {
     "end_time": "2025-06-24T17:55:46.824202Z",
     "start_time": "2025-06-24T17:55:46.808531Z"
    }
   },
   "cell_type": "code",
   "source": "clothing = ks.datasets.fashion_mnist",
   "outputs": [],
   "execution_count": 67
  }
 ],
 "metadata": {
  "colab": {
   "collapsed_sections": [
    "rX8mhOLljYeM"
   ],
   "name": "beginner.ipynb",
   "toc_visible": true
  },
  "kernelspec": {
   "display_name": "Python 3.9.9 ('uk259')",
   "language": "python",
   "name": "python3"
  },
  "language_info": {
   "codemirror_mode": {
    "name": "ipython",
    "version": 3
   },
   "file_extension": ".py",
   "mimetype": "text/x-python",
   "name": "python",
   "nbconvert_exporter": "python",
   "pygments_lexer": "ipython3",
   "version": "3.9.9"
  },
  "vscode": {
   "interpreter": {
    "hash": "04ef47e14afcc12bc8afdbb05faf5df96ba6e8d3916c9b18b282210d98731075"
   }
  }
 },
 "nbformat": 4,
 "nbformat_minor": 4
}

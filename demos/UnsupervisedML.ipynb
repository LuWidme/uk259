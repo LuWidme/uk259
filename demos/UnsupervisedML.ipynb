{
  "cells": [
    {
      "cell_type": "markdown",
      "id": "15f06d6d-793d-4de7-afac-6e7e38ba0350",
      "metadata": {
        "id": "15f06d6d-793d-4de7-afac-6e7e38ba0350"
      },
      "source": [
        "# Clustering\n",
        "The aim of clustering is to automatically find groups of similar datapoints in unlabeled data. In this exercise your aim will be to implement the k-Means algorithm and apply it to a set of random data.\n",
        "\n",
        "Implement the KMeans Algorithm\n",
        "Input:\n",
        "\n",
        "A 2D array of features\n",
        "A number of groups (nGroups)\n",
        "Output:\n",
        "\n",
        "A 1D array of estimated group membership for each point\n",
        "Coordinates of the cluster centers\n",
        "Cooking Recipe for Developing This Algorithm\n",
        "1. **Initialize**\n",
        "Create an array of 2D points called clusterCenters with length nGroups. You can initialize them however you want — the easiest way is to hardcode them (e.g., [0, 0]).\n",
        "Create a list called clusterAssignments with the same length as featureArray. Use np.empty() to initialize it. This will track which cluster each point belongs to.\n",
        "2. **Assign Points to Clusters**\n",
        "For each point, calculate the distance to every cluster center.\n",
        "\n",
        "You can:\n",
        "\n",
        "Define your own function using Pythagorean math, or\n",
        "Use the predefined metric from scikit-learn: sklearn.metrics.pairwise.euclidean_distances\n",
        "Assign each point to its closest cluster. Update clusterAssignments at the respective index.\n",
        "\n",
        "Print the closest cluster center for each point (optional for debugging).\n",
        "\n",
        "3. Update Cluster Centers\n",
        "For each cluster:\n",
        "\n",
        "Average the coordinates of all the points assigned to it. (easiest way: np.average using the axisoptional parameter to averegy x & y coordinates separately)\n",
        "Update the corresponding clusterCenter.\n",
        "Example: if a cluster has points [1,1] and [2,2], the new center should be [1.5, 1.5]\n",
        "Print the updated cluster center coordinates (optional for debugging).\n",
        "\n",
        "4. Repeat\n",
        "Repeat steps 2 and 3 for a fixed number of iterations (e.g. 25 times).\n",
        "5. Return Results\n",
        "Return:\n",
        "\n",
        "clusterAssignments\n",
        "clusterCenters\n",
        "Visualization\n",
        "Use clusterAssignments and clusterCenters to visualize the final results (e.g., using matplotlib).\n",
        "Improvements\n",
        "Initialize the cluster centers more intelligently\n",
        "Make the number of cluster centers dynamic (based on nGroups)\n",
        "Visualize intermediate results to monitor progress\n",
        "Replace the for-loop with a while-loop that stops when cluster centers no longer change\n",
        "Bonus Tasks\n",
        "Accuracy Evaluation\n",
        "Vergleiche deine Cluster-Predictions mit den wahren Cluster-Zugehörigkeiten. Berechne, wie viel Prozent deine Implementierung richtig eingeordnet hat.\n",
        "\n",
        "Optimal K\n",
        "Bonusaufgabe: Finde einen Weg, den Wert für K / nGroups automatisch optimal zu wählen. Tipp: Recherchiere den Begriff \"Elbow Method\""
      ]
    },
    {
      "cell_type": "code",
      "execution_count": null,
      "id": "960c65e1-3faa-4f23-8567-edd393dc8c15",
      "metadata": {
        "id": "960c65e1-3faa-4f23-8567-edd393dc8c15"
      },
      "outputs": [],
      "source": [
        "import seaborn as sns #for plotting\n",
        "from sklearn.datasets import make_blobs #data generator\n",
        "\n",
        "# automatically generate a random dataset with underlying clusters. You can play around with the parameters of this generator function to test your algorithm.\n",
        "# true labels are the actual group a point belongs to. you can use them to check the quality of your algorithm\n",
        "\n",
        "N=4 #number of groups in the dataset\n",
        "features, true_labels = make_blobs(\n",
        "    n_samples=500,\n",
        "    centers=N,\n",
        "    cluster_std=2.75,\n",
        "    random_state=42\n",
        ")\n",
        "# visualize the data with the true labels to get an overwiev of the data\n",
        "\n",
        "\n"
      ]
    },
    {
      "cell_type": "code",
      "execution_count": null,
      "id": "853b4bea-2449-4ac0-9124-6434750f81bc",
      "metadata": {
        "id": "853b4bea-2449-4ac0-9124-6434750f81bc"
      },
      "outputs": [],
      "source": [
        "# implement the kmeans algorithm\n",
        "# it should take a 2D array of features and number of Groups as Input\n",
        "# and retun a 1D array of estimaetd group membership of each point.\n",
        "def k_means(featureArray, nGroups):\n",
        "     #Todo\n",
        "    return"
      ]
    },
    {
      "cell_type": "code",
      "execution_count": null,
      "id": "0ef882e9",
      "metadata": {
        "id": "0ef882e9"
      },
      "outputs": [],
      "source": [
        "# apply k means to your dataset to cluster the data\n",
        "\n",
        "estimated_labels = k_means(features, N)"
      ]
    },
    {
      "cell_type": "code",
      "execution_count": null,
      "id": "3f0d1e19-3753-4329-836f-64a96ff83dc0",
      "metadata": {
        "id": "3f0d1e19-3753-4329-836f-64a96ff83dc0"
      },
      "outputs": [],
      "source": [
        "# visualize your results"
      ]
    }
  ],
  "metadata": {
    "interpreter": {
      "hash": "37f3d96c2743890112b2be8b133f5ca7ad8832e517d818d8378c6945143fe883"
    },
    "kernelspec": {
      "display_name": "uk259_kernel",
      "language": "python",
      "name": "python3"
    },
    "language_info": {
      "codemirror_mode": {
        "name": "ipython",
        "version": 3
      },
      "file_extension": ".py",
      "mimetype": "text/x-python",
      "name": "python",
      "nbconvert_exporter": "python",
      "pygments_lexer": "ipython3",
      "version": "3.9.9"
    },
    "colab": {
      "provenance": []
    }
  },
  "nbformat": 4,
  "nbformat_minor": 5
}
{
  "cells": [
    {
      "cell_type": "markdown",
      "id": "15f06d6d-793d-4de7-afac-6e7e38ba0350",
      "metadata": {
        "id": "15f06d6d-793d-4de7-afac-6e7e38ba0350"
      },
      "source": [
        "# Clustering\n",
        "The aim of clustering is to auomatically find groups of similar datapoints in unlabeled data. In this exercise your aim will be to implement the k-Means algorithm and apply it to a set of random data.\n",
        "\n",
        "\n",
        "Implement the KMeans algorithm\n",
        "\n",
        "It should take a 2D array of features and number of groups as input, and return a 1D array of estimated group membership of each point, and the coordinates of the cluster centers.\n",
        "\n",
        "### Step by Step guide to developing this algorithm:\n",
        "\n",
        "\n",
        "\n",
        "\n",
        "\n",
        "1. Start by initializing an array of 2D points called clusterCenters. It should have the length nGroups. You can initialize them however you want. The easiest starting point for now is to hardcode them (e.g., [0, 0]). Initialize a list of the same length as the featureArray called clusterAssignments to track cluster membership of each point. You can use the np.empty() function for this.\n",
        "\n",
        "\n",
        "\n",
        "2. Loop through each point and calculate the distance to every cluster center. You can define your own function using Pythagorean math or use the predefined metric of scikit-learn. Assign each point to its closest cluster by updating clusterAssignments at the respective index. Print the closest cluster center for each point as an intermediate result.\n",
        "\n",
        "\n",
        "\n",
        "3. Recalculate all clusterCenters by averaging the coordinates of all the points in a given cluster. For example, if the 2 points in cluster one have the coordinates [1,1] and [2,2], the cluster center should have the updated coordinates [1.5, 1.5]. Print the updated cluster center coordinates as an intermediate result.\n",
        "\n",
        "\n",
        "> Tipp: You can use `numpy.average` to easily aberage the coordinates by using the `axis` optional paramter\n",
        "\n",
        "\n",
        "\n",
        "\n",
        "4. Repeat steps 2 & 3 a fixed number of times.\n",
        "\n",
        "\n",
        "\n",
        "5. Return the clusterAssignments and clusterCenters.\n",
        "\n",
        "\n",
        "\n",
        "**This is a very basic implementation of the kMeans algorithm. Now use the clusterAssignments and clusterCenters variables to visualize your results.**\n",
        "This is a very simple version of the K-Means algorithm. Next, try to improve it by adding some or all of the following:\n",
        "\n",
        "Initialize the cluster centers more intelligently\n",
        "Make the number of cluster centers dynamic (equal to nGroups)\n",
        "Visualize intermediate results\n",
        "Choose a better strategy to stop the loop in point 4 (e.g. change the foor-loop for a while loop that ends when the cluster centers dont change anymore)\n",
        "\n",
        "\n",
        "\n",
        "Vergleiche deine Cluster Predictions mit den wahren Cluster-Zugehörigkeiten. Berechne wiel % deine Implementation richtig eingeordnet hat.\n",
        "\n",
        "\n",
        "\n",
        "Bonus aufgabe: finde einen Weg den wert für K /nGroups automatisch optimal zu wählen (google dafür den begriff \"Ellbow Method\")"
      ]
    },
    {
      "cell_type": "code",
      "execution_count": null,
      "id": "960c65e1-3faa-4f23-8567-edd393dc8c15",
      "metadata": {
        "id": "960c65e1-3faa-4f23-8567-edd393dc8c15"
      },
      "outputs": [],
      "source": [
        "import seaborn as sns #for plotting\n",
        "from sklearn.datasets import make_blobs #data generator\n",
        "\n",
        "# automatically generate a random dataset with underlying clusters. You can play around with the parameters of this generator function to test your algorithm.\n",
        "# true labels are the actual group a point belongs to. you can use them to check the quality of your algorithm\n",
        "\n",
        "N=4 #number of groups in the dataset\n",
        "features, true_labels = make_blobs(\n",
        "    n_samples=500,\n",
        "    centers=N,\n",
        "    cluster_std=2.75,\n",
        "    random_state=42\n",
        ")\n",
        "# visualize the data with the true labels to get an overwiev of the data\n",
        "\n",
        "\n"
      ]
    },
    {
      "cell_type": "code",
      "execution_count": null,
      "id": "853b4bea-2449-4ac0-9124-6434750f81bc",
      "metadata": {
        "id": "853b4bea-2449-4ac0-9124-6434750f81bc"
      },
      "outputs": [],
      "source": [
        "# implement the kmeans algorithm\n",
        "# it should take a 2D array of features and number of Groups as Input\n",
        "# and retun a 1D array of estimaetd group membership of each point.\n",
        "def k_means(featureArray, nGroups):\n",
        "     #Todo\n",
        "    return"
      ]
    },
    {
      "cell_type": "code",
      "execution_count": null,
      "id": "0ef882e9",
      "metadata": {
        "id": "0ef882e9"
      },
      "outputs": [],
      "source": [
        "# apply k means to your dataset to cluster the data\n",
        "\n",
        "estimated_labels = k_means(features, N)"
      ]
    },
    {
      "cell_type": "code",
      "execution_count": null,
      "id": "3f0d1e19-3753-4329-836f-64a96ff83dc0",
      "metadata": {
        "id": "3f0d1e19-3753-4329-836f-64a96ff83dc0"
      },
      "outputs": [],
      "source": [
        "# visualize your results"
      ]
    }
  ],
  "metadata": {
    "interpreter": {
      "hash": "37f3d96c2743890112b2be8b133f5ca7ad8832e517d818d8378c6945143fe883"
    },
    "kernelspec": {
      "display_name": "uk259_kernel",
      "language": "python",
      "name": "python3"
    },
    "language_info": {
      "codemirror_mode": {
        "name": "ipython",
        "version": 3
      },
      "file_extension": ".py",
      "mimetype": "text/x-python",
      "name": "python",
      "nbconvert_exporter": "python",
      "pygments_lexer": "ipython3",
      "version": "3.9.9"
    },
    "colab": {
      "provenance": []
    }
  },
  "nbformat": 4,
  "nbformat_minor": 5
}
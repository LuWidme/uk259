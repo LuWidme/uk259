{
 "cells": [
  {
   "cell_type": "markdown",
   "id": "15f06d6d-793d-4de7-afac-6e7e38ba0350",
   "metadata": {},
   "source": [
    "# Clustering\n",
    "The aim of clustering is to auomatically find groups of similar datapoints in unlabeled data. In this exercise your aim will be to implement the k-Means algorithm and apply it to a set of random data. "
   ]
  },
  {
   "cell_type": "code",
   "execution_count": 5,
   "id": "960c65e1-3faa-4f23-8567-edd393dc8c15",
   "metadata": {},
   "outputs": [],
   "source": [
    "import seaborn as sns #for plotting\n",
    "from sklearn.datasets import make_blobs #data generator\n",
    "\n",
    "# automatically generate a random dataset with underlying clusters. You can play around with the parameters of this generator function to test your algorithm.\n",
    "# true labels are the actual group a point belongs to. you can use them to check the quality of your algorithm\n",
    "\n",
    "N=4 #number of groups in the dataset\n",
    "features, true_labels = make_blobs(\n",
    "    n_samples=500,\n",
    "    centers=N,\n",
    "    cluster_std=2.75,\n",
    "    random_state=42\n",
    ")\n",
    "# visualize the data with the true labels to get an overwiev of the data\n",
    "\n",
    "\n"
   ]
  },
  {
   "cell_type": "code",
   "execution_count": 6,
   "id": "853b4bea-2449-4ac0-9124-6434750f81bc",
   "metadata": {},
   "outputs": [],
   "source": [
    "# implement the kmeans algorithm\n",
    "# it should take a 2D array of features and number of Groups as Input  \n",
    "# and retun a 1D array of estimaetd group membership of each point.\n",
    "def k_means(featureArray, nGroups):\n",
    "     #Todo\n",
    "    return"
   ]
  },
  {
   "cell_type": "code",
   "execution_count": null,
   "id": "0ef882e9",
   "metadata": {},
   "outputs": [],
   "source": [
    "# apply k means to your dataset to cluster the data\n",
    "\n",
    "estimated_labels = k_means(features, N)"
   ]
  },
  {
   "cell_type": "code",
   "execution_count": 7,
   "id": "3f0d1e19-3753-4329-836f-64a96ff83dc0",
   "metadata": {},
   "outputs": [],
   "source": [
    "# visualize your results"
   ]
  }
 ],
 "metadata": {
  "interpreter": {
   "hash": "37f3d96c2743890112b2be8b133f5ca7ad8832e517d818d8378c6945143fe883"
  },
  "kernelspec": {
   "display_name": "uk259_kernel",
   "language": "python",
   "name": "python3"
  },
  "language_info": {
   "codemirror_mode": {
    "name": "ipython",
    "version": 3
   },
   "file_extension": ".py",
   "mimetype": "text/x-python",
   "name": "python",
   "nbconvert_exporter": "python",
   "pygments_lexer": "ipython3",
   "version": "3.9.9"
  }
 },
 "nbformat": 4,
 "nbformat_minor": 5
}

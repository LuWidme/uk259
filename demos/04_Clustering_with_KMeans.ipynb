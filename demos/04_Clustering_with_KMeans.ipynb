{
 "cells": [
  {
   "metadata": {},
   "cell_type": "markdown",
   "source": [
    "# Clustering\n",
    "<a target=\"_blank\" href=\"https://colab.research.google.com/github/LuWidme/uk259/blob/8ce0e9b71dc7667296419d8ab35fc6dc930b78e8/demos/UnsupervisedML.ipynb\">\n",
    "  <img src=\"https://colab.research.google.com/assets/colab-badge.svg\" alt=\"Open In Colab\"/>\n",
    "</a>\n",
    "\n",
    "The aim of clustering is to automatically find groups of similar datapoints in unlabeled data. In this exercise, your aim will be to implement the k-Means algorithm and apply it to a set of random data.\n",
    "\n",
    "\n",
    "\n",
    "## Task Implement the KMeans algorithm\n",
    "\n",
    "Input:\n",
    "\n",
    "* A 2D array of features\n",
    "\n",
    "* A number of groups (nGroups)\n",
    "\n",
    "Output:\n",
    "\n",
    "* A 1D array of estimated group membership for each point\n",
    "* Coordinates of the cluster centers\n",
    "\n",
    "### Step by Step guide to developing this algorithm:\n",
    "\n",
    "\n",
    "\n",
    "\n",
    "\n",
    "1.  **Initialize** :\n",
    "Start by initializing an array of 2D points called clusterCenters. It should have the length nGroups. You can initialize them however you want. The easiest starting point for now is to hardcode them (e.g., [0, 0]). Initialize a list of the same length as the featureArray called clusterAssignments to track cluster membership of each point. You can use the np.empty() function for this.\n",
    "\n",
    "\n",
    "\n",
    "2. **Assign Points to Clusters**: Loop through each point and calculate the distance to every cluster center. You can define your own function using Pythagorean math or use the predefined metric of scikit-learn. Assign each point to its closest cluster by updating clusterAssignments at the respective index. Print the closest cluster center for each point as an intermediate result.\n",
    "\n",
    "\n",
    "\n",
    "3. **Update Cluster Centers**: Recalculate all clusterCenters by averaging the coordinates of all the points in a given cluster. For example, if the 2 points in cluster one have the coordinates [1,1] and [2,2], the cluster center should have the updated coordinates [1.5, 1.5]. Print the updated cluster center coordinates as an intermediate result.\n",
    "\n",
    "\n",
    "> Tipp: You can use `numpy.average` to easily aberage the coordinates by using the `axis` optional paramter\n",
    "\n",
    "\n",
    "\n",
    "\n",
    "4. Repeat steps 2 and 3 for a fixed number of iterations (e.g. 25 times).\n",
    "\n",
    "5. Return the clusterAssignments and clusterCenters.\n",
    "\n",
    "\n",
    "\n",
    "**This is a very basic implementation of the kMeans algorithm.**\n",
    "\n",
    "\n",
    "**Now use the clusterAssignments and clusterCenters variables to visualize your results.**\n",
    "\n",
    "---\n",
    "\n",
    "\n",
    "## Improvements\n",
    "Next, try to improve it by adding some or all of the following:\n",
    "\n",
    "* Try to think of a strategy to initialize the cluster centers more intelligently, instead of hardcoding the startpoints.\n",
    "* Make the number of cluster centers dynamic (equal to nGroups)\n",
    "* Visualize intermediate results (you could produce a GIF similar to the one in the presentation.)\n",
    "* Choose a better strategy to stop the loop in point 4 (e.g. change the foor-loop for a while loop that ends when the cluster centers don't change (much) anymore)\n",
    "\n",
    "* Optimal K: Try to implement a strategy to automatically choose an optimal number of clusters. Research-Tip: \"Elbow Method\""
   ],
   "id": "818f2230f3411f27"
  },
  {
   "metadata": {},
   "cell_type": "code",
   "outputs": [],
   "execution_count": null,
   "source": [
    "import seaborn as sns #for plotting\n",
    "from sklearn.datasets import make_blobs #data generator\n",
    "\n",
    "# automatically generate a random dataset with underlying clusters. You can play around with the parameters of this generator function to test your algorithm.\n",
    "# true labels are the actual group a point belongs to. you can use them later to check the quality of your algorithm\n",
    "\n",
    "import matplotlib.pyplot as plt\n",
    "import seaborn as sns\n",
    "from sklearn.datasets import make_blobs\n",
    "# automatically generate random dataset\n",
    "\n",
    "\n",
    "\n",
    "features, true_labels = make_blobs(\n",
    "    n_samples=500,\n",
    "    centers=4,\n",
    "    cluster_std=1,\n",
    "    random_state=1\n",
    ")\n",
    "\n",
    "print(features[:10])\n",
    "print( true_labels[:10])\n",
    "fig, ax = plt.subplots()\n",
    "ax.scatter(x=features[:,0], y=features[:,1], s=5)\n",
    "           #,c=true_labels)\n",
    "plt.plot()\n",
    "# visualize the data with the true labels to get an overview of the data\n",
    "\n",
    "\n"
   ],
   "id": "ff0dcfe3fdb24fdb"
  },
  {
   "metadata": {},
   "cell_type": "code",
   "outputs": [],
   "execution_count": null,
   "source": [
    "# implement the kmeans algorithm\n",
    "# it should take a 2D array of features and number of Groups as Input\n",
    "# and return a 1D array of estimated group membership of each point, and the coordinates of the cluster centers.\n",
    "def k_means(featureArray, nGroups):\n",
    "     #Todo\n",
    "    return"
   ],
   "id": "ce0f274c94d5ec81"
  },
  {
   "metadata": {},
   "cell_type": "code",
   "outputs": [],
   "execution_count": null,
   "source": [
    "# apply k means to your dataset to cluster the data\n",
    "\n",
    "estimated_labels, cluster_centers = k_means(features, 4)"
   ],
   "id": "23fc23d22a9d8c7d"
  },
  {
   "metadata": {},
   "cell_type": "code",
   "outputs": [],
   "execution_count": null,
   "source": "# visualize your results",
   "id": "aa192677d0202428"
  },
  {
   "metadata": {},
   "cell_type": "markdown",
   "source": "",
   "id": "f2361f96177a91a8"
  }
 ],
 "metadata": {
  "interpreter": {
   "hash": "37f3d96c2743890112b2be8b133f5ca7ad8832e517d818d8378c6945143fe883"
  },
  "kernelspec": {
   "display_name": "uk259_kernel",
   "language": "python",
   "name": "python3"
  },
  "language_info": {
   "codemirror_mode": {
    "name": "ipython",
    "version": 3
   },
   "file_extension": ".py",
   "mimetype": "text/x-python",
   "name": "python",
   "nbconvert_exporter": "python",
   "pygments_lexer": "ipython3",
   "version": "3.9.9"
  },
  "colab": {
   "provenance": []
  }
 },
 "nbformat": 4,
 "nbformat_minor": 5
}

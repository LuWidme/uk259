{
 "cells": [
  {
   "attachments": {},
   "cell_type": "markdown",
   "id": "dd49dcc9-cd5a-432a-bff5-73cc9ea95300",
   "metadata": {},
   "source": ""
  },
  {
   "cell_type": "markdown",
   "id": "0a50c738",
   "metadata": {},
   "source": [
    "# Supervised Learning\n",
    "\n",
    "<a target=\"_blank\" href=\"https://colab.research.google.com/github/LuWidme/uk259/blob/accf6217cea26299b35784f1225f3e5b427dabb9/demos/SupervisedML.ipynb\">\n",
    "  <img src=\"https://colab.research.google.com/assets/colab-badge.svg\" alt=\"Open In Colab\"/>\n",
    "</a>\n",
    "\n",
    "## Linear Regression\n",
    "\n",
    "In linear regression, the aim is to predict a continuous variable (meaning a numerical value, as opposed to a class) using a set of input variables. To train our model, we need to provide a **labeled dataset**. This labeled dataset contains explanatory variables (the variables used to predict the value) as well as the dependent variables (the true value). The algorithm tries to find a line, that best matches the true values.\n",
    "\n",
    "### Task 1\n",
    "\n",
    "Try to fit a linear regression to the data. Show the correlation between the variables `bill_length_mm` and `bill_depth_mm` (`bill_depth_mm` is the dependent variable). You can use the function `sns.lmplot` to achieve this. \\"
   ]
  },
  {
   "cell_type": "code",
   "execution_count": 2,
   "id": "9d3baa82-e24e-4e51-beb2-e420156c0804",
   "metadata": {},
   "outputs": [],
   "source": [
    "import seaborn as sns\n",
    "sns.set_theme()\n",
    "\n",
    "# Load the penguins dataset\n",
    "penguins = sns.load_dataset(\"penguins\")\n",
    "\n",
    "# visualize the data, show a summary of the variables in question"
   ]
  },
  {
   "cell_type": "code",
   "execution_count": 3,
   "id": "89914591-c3a7-4c48-9478-887bf23f1d55",
   "metadata": {},
   "outputs": [],
   "source": [
    "# use sns.lmplot to perform a linear regression on the data"
   ]
  },
  {
   "metadata": {},
   "cell_type": "markdown",
   "source": "Do you see anything interesting? Summarize your results below. Are there other aspects of the data you would like to investigate? (Hint: the result  changes when you split the data into certain groups)",
   "id": "c50e22026541e633"
  },
  {
   "metadata": {},
   "cell_type": "markdown",
   "source": [
    "# Supervised Machine Learning, Part 1\n",
    "\n",
    "\n",
    "### Task 2 K-Nearest Neighbour\n",
    "Implement the K Nearest Neighbour (KNN) Algorithm for the blob dataset of the previous exercise"
   ],
   "id": "3326c2e89b832558"
  },
  {
   "metadata": {
    "ExecuteTime": {
     "end_time": "2024-06-20T14:48:05.545131Z",
     "start_time": "2024-06-20T14:48:05.534599Z"
    }
   },
   "cell_type": "code",
   "source": [
    "#Get a Dataset to use as experience data\n",
    "from sklearn.datasets import make_blobs\n",
    "from sklearn.model_selection import train_test_split\n",
    "\n",
    "import numpy as np\n",
    "data, labels = make_blobs(\n",
    "n_samples=500,\n",
    "centers=4,\n",
    "cluster_std=0.75,\n",
    "random_state=42)\n",
    "\n",
    "\n",
    "\n",
    "\n",
    "#Split your data into training and test data\n",
    "experienceData,testData, experienceLabels, testLabels = train_test_split(data,labels, test_size=0.20)\n",
    "len(experienceLabels)"
   ],
   "id": "d467d4592d329276",
   "outputs": [
    {
     "data": {
      "text/plain": [
       "400"
      ]
     },
     "execution_count": 32,
     "metadata": {},
     "output_type": "execute_result"
    }
   ],
   "execution_count": 32
  },
  {
   "metadata": {},
   "cell_type": "code",
   "outputs": [],
   "execution_count": null,
   "source": [
    "def k_means(newPoint, experienceData,experienceLabels, numberOfNeighbours):\n",
    "     \n",
    "\"\"\"\n",
    "Find the Euclidean distance to all training data\n",
    "points\n",
    "2. get the k closest points\n",
    "3. Choose the first k points\n",
    "4. Return the predicted class of the new point based on\n",
    "the majority classes of the chosen points (in 3.)\n",
    "\"\"\" \n",
    "    return predicted_class\n"
   ],
   "id": "7e6f2d34e4056d32"
  },
  {
   "cell_type": "markdown",
   "id": "0c06b752",
   "metadata": {},
   "source": [
    "## Bonus Task:\n",
    "\n",
    "Visualize the **training** and **test** data separately as a scatterplot and include your classifier as a line in the plot."
   ]
  }
 ],
 "metadata": {
  "interpreter": {
   "hash": "37f3d96c2743890112b2be8b133f5ca7ad8832e517d818d8378c6945143fe883"
  },
  "kernelspec": {
   "display_name": "uk259_kernel",
   "language": "python",
   "name": "python3"
  },
  "language_info": {
   "codemirror_mode": {
    "name": "ipython",
    "version": 3
   },
   "file_extension": ".py",
   "mimetype": "text/x-python",
   "name": "python",
   "nbconvert_exporter": "python",
   "pygments_lexer": "ipython3",
   "version": "3.9.9"
  }
 },
 "nbformat": 4,
 "nbformat_minor": 5
}

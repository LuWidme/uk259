{
 "cells": [
  {
   "attachments": {},
   "cell_type": "markdown",
   "id": "dd49dcc9-cd5a-432a-bff5-73cc9ea95300",
   "metadata": {},
   "source": ""
  },
  {
   "cell_type": "markdown",
   "id": "0a50c738",
   "metadata": {},
   "source": [
    "# Supervised Learning\n",
    "\n",
    "<a target=\"_blank\" href=\"https://colab.research.google.com/github/LuWidme/uk259/blob/accf6217cea26299b35784f1225f3e5b427dabb9/demos/SupervisedML.ipynb\">\n",
    "  <img src=\"https://colab.research.google.com/assets/colab-badge.svg\" alt=\"Open In Colab\"/>\n",
    "</a>\n",
    "\n",
    "## Linear Regression\n",
    "\n",
    "In linear regression, the aim is to predict a continuous variable (meaning a numerical value, as opposed to a class) using a set of input variables. To train our model, we need to provide a **labeled dataset**. This labeled dataset contains explanatory variables (the variables used to predict the value) as well as the dependent variables (the true value). The algorithm tries to find a line, that best matches the true values.\n",
    "\n",
    "### Task 1\n",
    "\n",
    "Try to fit a linear regression to the data. Show the correlation between the variables `bill_length_mm` and `bill_depth_mm` (`bill_depth_mm` is the dependent variable). You can use the function `sns.lmplot` to achieve this. \\"
   ]
  },
  {
   "cell_type": "code",
   "execution_count": 2,
   "id": "9d3baa82-e24e-4e51-beb2-e420156c0804",
   "metadata": {},
   "outputs": [],
   "source": [
    "import seaborn as sns\n",
    "sns.set_theme()\n",
    "# %matplotlib widget\n",
    "\n",
    "# Load the penguins dataset\n",
    "penguins = sns.load_dataset(\"penguins\")\n",
    "\n",
    "\n",
    "# visualize the data, show a summary of the variables in question\n",
    "\n"
   ]
  },
  {
   "cell_type": "code",
   "execution_count": 3,
   "id": "89914591-c3a7-4c48-9478-887bf23f1d55",
   "metadata": {},
   "outputs": [],
   "source": [
    "# use sns.lmplot to perform a linear regression on the data"
   ]
  },
  {
   "metadata": {},
   "cell_type": "markdown",
   "source": "Do you see anything interesting? Summarize your results below. Are there other aspects of the data you would like to investigate?",
   "id": "c50e22026541e633"
  },
  {
   "metadata": {},
   "cell_type": "markdown",
   "source": [
    "# Supervised Machine Learning, Part 1\n",
    "\n",
    "\n",
    "### Task 2 K-Nearest Neighbour\n",
    "Implement the K Nearest Neighbour (KNN) Algorithm for the blob dataset of the previous exercise"
   ],
   "id": "3326c2e89b832558"
  },
  {
   "metadata": {},
   "cell_type": "code",
   "outputs": [],
   "execution_count": null,
   "source": [
    "#Todo Implement KNN\n",
    "\n"
   ],
   "id": "7e6f2d34e4056d32"
  },
  {
   "cell_type": "markdown",
   "id": "3fcba673-6718-4d13-9880-7f81cb1dd641",
   "metadata": {},
   "source": [
    "## Support Vector Machines\n",
    "\n",
    "Support Vector Machines (SVM) are a common tool for classification (predicting a categorical label/dependent variable for each datapoint). It tries to predict a line (or plane in higher dimensions) that best separates two or more classes from each other. This line is defined mathematically by its \"support vector\", hence the name. \n",
    "[Documentation](https://scikit-learn.org/stable/modules/svm.html)"
   ]
  },
  {
   "cell_type": "code",
   "execution_count": 4,
   "id": "f465a973-d770-42cf-8c54-0e99fd76d52a",
   "metadata": {},
   "outputs": [
    {
     "name": "stdout",
     "output_type": "stream",
     "text": [
      "   bill_length_mm  bill_depth_mm\n",
      "0       -0.701364       0.925911\n",
      "1       -0.624514       0.277848\n",
      "2       -0.470814       0.576954\n",
      "4       -1.162463       1.225017\n",
      "5       -0.662939       1.873079\n",
      "0    0\n",
      "1    0\n",
      "2    0\n",
      "4    0\n",
      "5    0\n",
      "dtype: int8\n"
     ]
    }
   ],
   "source": [
    "from sklearn import svm\n",
    "from sklearn.preprocessing import StandardScaler\n",
    "\n",
    "import pandas as pd\n",
    "penguins2=penguins.copy()[penguins[\"species\"]!= \"Chinstrap\"]\n",
    "X = penguins2.dropna()[[\"bill_length_mm\", \"bill_depth_mm\"]]\n",
    "y = penguins2.dropna()[\"species\"]\n",
    "\n",
    "\n",
    "# scale the data to make variables comparable\n",
    "scaler = StandardScaler()\n",
    "X.iloc[:] = scaler.fit_transform(X)\n",
    "\n",
    "#encode strings as integers\n",
    "y=y.astype(\"category\").cat.codes\n",
    "\n",
    "\n",
    "print(X[:5])\n",
    "print(y[:5])"
   ]
  },
  {
   "cell_type": "markdown",
   "id": "a7a955a2",
   "metadata": {},
   "source": [
    "We go a step further and split the data into training and test datasets. This allows us to better asses the performance of our classifier. We use the training data to train our classifier (meaning we calculate the best line to separate the classes in the training dataset) and use the test data to test the performance. \\\n",
    "\n",
    "Think about why this split could make sense and what a potential drawback of doing this could be."
   ]
  },
  {
   "cell_type": "code",
   "execution_count": 5,
   "id": "96f59c3a-2b45-4c83-b386-612fc7a8b5f8",
   "metadata": {},
   "outputs": [],
   "source": [
    "from sklearn.model_selection import train_test_split\n",
    "\n",
    "\n",
    "X_train, X_test, y_train, y_test = train_test_split(X, y, test_size=0.25)"
   ]
  },
  {
   "cell_type": "markdown",
   "id": "4dec2b4b",
   "metadata": {},
   "source": [
    "Next we train our classifier using the training data and their true labels:"
   ]
  },
  {
   "cell_type": "code",
   "execution_count": 6,
   "id": "66ec2314",
   "metadata": {},
   "outputs": [],
   "source": [
    "# implement the training step using the svm.SVC() function"
   ]
  },
  {
   "cell_type": "markdown",
   "id": "b5a527da",
   "metadata": {},
   "source": [
    "next we can use the trained model to predict the labels on our training data"
   ]
  },
  {
   "cell_type": "code",
   "execution_count": 7,
   "id": "1c4e68b0-d163-4889-92be-69429c381b11",
   "metadata": {},
   "outputs": [],
   "source": [
    "# implement the prediction step"
   ]
  },
  {
   "cell_type": "markdown",
   "id": "0762ec3e",
   "metadata": {},
   "source": [
    "Once you have trained your model you can evaluate its performance on the test data using the code below:"
   ]
  },
  {
   "cell_type": "code",
   "execution_count": 8,
   "id": "8d84b296-51b3-4452-9c76-eaa3e22ce193",
   "metadata": {},
   "outputs": [
    {
     "ename": "NameError",
     "evalue": "name 'y_pred' is not defined",
     "output_type": "error",
     "traceback": [
      "\u001B[1;31m---------------------------------------------------------------------------\u001B[0m",
      "\u001B[1;31mNameError\u001B[0m                                 Traceback (most recent call last)",
      "\u001B[1;32mC:\\Users\\LUCAWI~1.000\\AppData\\Local\\Temp/ipykernel_1160/3543190678.py\u001B[0m in \u001B[0;36m<module>\u001B[1;34m\u001B[0m\n\u001B[0;32m      1\u001B[0m \u001B[1;32mfrom\u001B[0m \u001B[0msklearn\u001B[0m\u001B[1;33m.\u001B[0m\u001B[0mmetrics\u001B[0m \u001B[1;32mimport\u001B[0m \u001B[0mclassification_report\u001B[0m\u001B[1;33m,\u001B[0m \u001B[0mconfusion_matrix\u001B[0m\u001B[1;33m\u001B[0m\u001B[1;33m\u001B[0m\u001B[0m\n\u001B[0;32m      2\u001B[0m \u001B[1;33m\u001B[0m\u001B[0m\n\u001B[1;32m----> 3\u001B[1;33m \u001B[0mprint\u001B[0m\u001B[1;33m(\u001B[0m\u001B[1;34m\"Confusion Matrix:\\n\"\u001B[0m\u001B[1;33m,\u001B[0m\u001B[0mconfusion_matrix\u001B[0m\u001B[1;33m(\u001B[0m\u001B[0my_test\u001B[0m\u001B[1;33m,\u001B[0m\u001B[0my_pred\u001B[0m\u001B[1;33m)\u001B[0m\u001B[1;33m)\u001B[0m\u001B[1;33m\u001B[0m\u001B[1;33m\u001B[0m\u001B[0m\n\u001B[0m\u001B[0;32m      4\u001B[0m \u001B[0mprint\u001B[0m\u001B[1;33m(\u001B[0m\u001B[0mclassification_report\u001B[0m\u001B[1;33m(\u001B[0m\u001B[0my_test\u001B[0m\u001B[1;33m,\u001B[0m\u001B[0my_pred\u001B[0m\u001B[1;33m)\u001B[0m\u001B[1;33m)\u001B[0m\u001B[1;33m\u001B[0m\u001B[1;33m\u001B[0m\u001B[0m\n",
      "\u001B[1;31mNameError\u001B[0m: name 'y_pred' is not defined"
     ]
    }
   ],
   "source": [
    "from sklearn.metrics import classification_report, confusion_matrix \n",
    "\n",
    "print(\"Confusion Matrix:\\n\",confusion_matrix(y_test,y_pred))\n",
    "print(classification_report(y_test,y_pred))\n"
   ]
  },
  {
   "cell_type": "markdown",
   "id": "0c06b752",
   "metadata": {},
   "source": [
    "## Bonus Task:\n",
    "\n",
    "Visualize the **training** and **test** data separately as a scatterplot and include your classifier as a line in the plot."
   ]
  }
 ],
 "metadata": {
  "interpreter": {
   "hash": "37f3d96c2743890112b2be8b133f5ca7ad8832e517d818d8378c6945143fe883"
  },
  "kernelspec": {
   "display_name": "uk259_kernel",
   "language": "python",
   "name": "python3"
  },
  "language_info": {
   "codemirror_mode": {
    "name": "ipython",
    "version": 3
   },
   "file_extension": ".py",
   "mimetype": "text/x-python",
   "name": "python",
   "nbconvert_exporter": "python",
   "pygments_lexer": "ipython3",
   "version": "3.9.9"
  }
 },
 "nbformat": 4,
 "nbformat_minor": 5
}

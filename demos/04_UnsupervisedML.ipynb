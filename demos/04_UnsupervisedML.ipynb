{
 "cells": [
  {
   "attachments": {},
   "cell_type": "markdown",
   "id": "15f06d6d-793d-4de7-afac-6e7e38ba0350",
   "metadata": {},
   "source": [
    "# Clustering\n",
    "<a target=\"_blank\" href=\"https://colab.research.google.com/github/LuWidme/uk259/blob/8ce0e9b71dc7667296419d8ab35fc6dc930b78e8/demos/UnsupervisedML.ipynb\">\n",
    "  <img src=\"https://colab.research.google.com/assets/colab-badge.svg\" alt=\"Open In Colab\"/>\n",
    "</a>\n",
    "\n",
    "The aim of clustering is to automatically find groups of similar datapoints in unlabeled data. In this exercise your aim will be to implement the k-Means algorithm and apply it to a set of random data. "
   ]
  },
  {
   "cell_type": "code",
   "execution_count": 5,
   "id": "960c65e1-3faa-4f23-8567-edd393dc8c15",
   "metadata": {},
   "outputs": [],
   "source": [
    "import seaborn as sns #for plotting\n",
    "from sklearn.datasets import make_blobs #data generator\n",
    "\n",
    "# automatically generate a random dataset with underlying clusters. You can play around with the parameters of this generator function to test your algorithm.\n",
    "# true labels are the actual group a point belongs to. you can use them later to check the quality of your algorithm\n",
    "\n",
    "import matplotlib.pyplot as plt\n",
    "import seaborn as sns\n",
    "from sklearn.datasets import make_blobs\n",
    "# automatically generate random dataset\n",
    "\n",
    "\n",
    "\n",
    "features, true_labels = make_blobs(\n",
    "    n_samples=500,\n",
    "    centers=4,\n",
    "    cluster_std=0.75,\n",
    "    random_state=42\n",
    ")\n",
    "\n",
    "print(features[:10])\n",
    "print( true_labels[:10])\n",
    "fig, ax = plt.subplots()\n",
    "ax.scatter(x=features[:,0], y=features[:,1], s=5)\n",
    "plt.plot()\n",
    "# visualize the data with the true labels to get an overview of the data\n",
    "\n",
    "\n"
   ]
  },
  {
   "cell_type": "code",
   "execution_count": 6,
   "id": "853b4bea-2449-4ac0-9124-6434750f81bc",
   "metadata": {},
   "outputs": [],
   "source": [
    "# implement the kmeans algorithm\n",
    "# it should take a 2D array of features and number of Groups as Input  \n",
    "# and return a 1D array of estimated group membership of each point, and the coordinates of the cluster centers.\n",
    "def k_means(featureArray, nGroups):\n",
    "     #Todo\n",
    "    return"
   ]
  },
  {
   "cell_type": "code",
   "execution_count": null,
   "id": "0ef882e9",
   "metadata": {},
   "outputs": [],
   "source": [
    "# apply k means to your dataset to cluster the data\n",
    "\n",
    "estimated_labels, cluster_centers = k_means(features, 4)"
   ]
  },
  {
   "cell_type": "code",
   "execution_count": 7,
   "id": "3f0d1e19-3753-4329-836f-64a96ff83dc0",
   "metadata": {},
   "outputs": [],
   "source": [
    "# visualize your results"
   ]
  }
 ],
 "metadata": {
  "interpreter": {
   "hash": "37f3d96c2743890112b2be8b133f5ca7ad8832e517d818d8378c6945143fe883"
  },
  "kernelspec": {
   "display_name": "uk259_kernel",
   "language": "python",
   "name": "python3"
  },
  "language_info": {
   "codemirror_mode": {
    "name": "ipython",
    "version": 3
   },
   "file_extension": ".py",
   "mimetype": "text/x-python",
   "name": "python",
   "nbconvert_exporter": "python",
   "pygments_lexer": "ipython3",
   "version": "3.9.9"
  }
 },
 "nbformat": 4,
 "nbformat_minor": 5
}

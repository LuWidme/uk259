{
 "cells": [
  {
   "attachments": {},
   "cell_type": "markdown",
   "id": "1a3b2c17-071d-4c70-a527-d05080e79a45",
   "metadata": {},
   "source": [
    "## Pandas\n",
    "\n",
    "<a target=\"_blank\" href=\"https://colab.research.google.com/github/LuWidme/uk259/blob/main/demos/Pandas%20Intro.ipynb\">\n",
    "  <img src=\"https://colab.research.google.com/assets/colab-badge.svg\" alt=\"Open In Colab\"/>\n",
    "</a>\n",
    "\n",
    "\n",
    "Pandas is a Data Manipulaiton Library hat makes it easy to handle complex datasets.\n",
    "\n",
    "Creating a DataFrame by passing a NumPy array, with labeled columns:"
   ]
  },
  {
   "cell_type": "code",
   "execution_count": 2,
   "id": "81d9d468-5de6-4a6c-b9b6-dab17707fcd7",
   "metadata": {},
   "outputs": [],
   "source": [
    "import pandas as pd\n",
    "import numpy as np\n",
    "#df=pd.read_csv(\"../datasets/melb_data.csv\")\n",
    "#df[df.isnull().any(axis=1)].iloc[-5:,14:17]\n",
    "\n",
    "df = pd.DataFrame(np.random.randn(6, 4),  columns=list(\"ABCD\"))"
   ]
  },
  {
   "attachments": {},
   "cell_type": "markdown",
   "id": "92906ada-0a22-484c-abcd-a71c112d4b83",
   "metadata": {},
   "source": [
    "The columns of the resulting DataFrame have different dtypes.\n",
    "\n",
    "If you’re using IPython, tab completion for column names (as well as public attributes) is automatically enabled. Here’s a subset of the attributes that will be completed:\n",
    "\n"
   ]
  },
  {
   "cell_type": "code",
   "execution_count": 3,
   "id": "93b58f04-bc1d-4a82-9a8c-9b51ec094797",
   "metadata": {},
   "outputs": [
    {
     "data": {
      "text/plain": [
       "A    float64\n",
       "B    float64\n",
       "C    float64\n",
       "D    float64\n",
       "dtype: object"
      ]
     },
     "execution_count": 3,
     "metadata": {},
     "output_type": "execute_result"
    }
   ],
   "source": [
    "df.dtypes"
   ]
  },
  {
   "attachments": {},
   "cell_type": "markdown",
   "id": "a43d65c6-0536-4480-843e-cba5a10a921a",
   "metadata": {},
   "source": [
    "## Viewing data\n",
    "df.head()\n",
    "df.tail(3)\n",
    "df.describe()\n",
    "df.sort_values(by=\"B\")\n",
    "df.sort_index(axis=1, ascending=False)"
   ]
  },
  {
   "attachments": {},
   "cell_type": "markdown",
   "id": "e84753f7-f1fe-4cc6-9cfa-4d5d8c1ceba6",
   "metadata": {},
   "source": [
    "## Selecting Data"
   ]
  },
  {
   "cell_type": "code",
   "execution_count": 4,
   "id": "baa80724-b3fa-46eb-ace9-5cd261301241",
   "metadata": {},
   "outputs": [
    {
     "name": "stdout",
     "output_type": "stream",
     "text": [
      "0    0.698271\n",
      "1   -0.339921\n",
      "2    0.037641\n",
      "3   -0.634430\n",
      "4   -0.913781\n",
      "5   -0.335247\n",
      "Name: A, dtype: float64\n",
      "          A         B\n",
      "3 -0.634430  1.495392\n",
      "4 -0.913781  0.211114\n"
     ]
    }
   ],
   "source": [
    "print(df[\"A\"])\n",
    "\n",
    "print(df.iloc[3:5, 0:2] )#selection by index"
   ]
  },
  {
   "attachments": {},
   "cell_type": "markdown",
   "id": "98c8b487-b9f0-4b62-bf5e-013f4f4b6780",
   "metadata": {},
   "source": [
    "## Boolean indexing"
   ]
  },
  {
   "cell_type": "code",
   "execution_count": 5,
   "id": "22a22b8b-1aec-4167-b56f-5851ecbfbebc",
   "metadata": {},
   "outputs": [
    {
     "name": "stdout",
     "output_type": "stream",
     "text": [
      "          A         B         C         D\n",
      "0  0.698271  0.230852  0.177781       NaN\n",
      "1       NaN  0.052777       NaN  1.617556\n",
      "2  0.037641  0.350707  0.855080  0.572829\n",
      "3       NaN  1.495392  0.154368  0.019994\n",
      "4       NaN  0.211114       NaN       NaN\n",
      "5       NaN  0.982257       NaN  0.262787\n"
     ]
    }
   ],
   "source": [
    "print(df[df > 0])\n"
   ]
  },
  {
   "cell_type": "code",
   "execution_count": 6,
   "id": "9945e87c",
   "metadata": {},
   "outputs": [
    {
     "data": {
      "text/html": [
       "<div>\n",
       "<style scoped>\n",
       "    .dataframe tbody tr th:only-of-type {\n",
       "        vertical-align: middle;\n",
       "    }\n",
       "\n",
       "    .dataframe tbody tr th {\n",
       "        vertical-align: top;\n",
       "    }\n",
       "\n",
       "    .dataframe thead th {\n",
       "        text-align: right;\n",
       "    }\n",
       "</style>\n",
       "<table border=\"1\" class=\"dataframe\">\n",
       "  <thead>\n",
       "    <tr style=\"text-align: right;\">\n",
       "      <th></th>\n",
       "      <th>A</th>\n",
       "      <th>B</th>\n",
       "      <th>C</th>\n",
       "      <th>D</th>\n",
       "    </tr>\n",
       "  </thead>\n",
       "  <tbody>\n",
       "    <tr>\n",
       "      <th>0</th>\n",
       "      <td>NaN</td>\n",
       "      <td>NaN</td>\n",
       "      <td>NaN</td>\n",
       "      <td>NaN</td>\n",
       "    </tr>\n",
       "    <tr>\n",
       "      <th>1</th>\n",
       "      <td>NaN</td>\n",
       "      <td>Hello</td>\n",
       "      <td>NaN</td>\n",
       "      <td>NaN</td>\n",
       "    </tr>\n",
       "    <tr>\n",
       "      <th>2</th>\n",
       "      <td>NaN</td>\n",
       "      <td>NaN</td>\n",
       "      <td>NaN</td>\n",
       "      <td>NaN</td>\n",
       "    </tr>\n",
       "    <tr>\n",
       "      <th>3</th>\n",
       "      <td>NaN</td>\n",
       "      <td>NaN</td>\n",
       "      <td>NaN</td>\n",
       "      <td>NaN</td>\n",
       "    </tr>\n",
       "    <tr>\n",
       "      <th>4</th>\n",
       "      <td>NaN</td>\n",
       "      <td>NaN</td>\n",
       "      <td>NaN</td>\n",
       "      <td>NaN</td>\n",
       "    </tr>\n",
       "    <tr>\n",
       "      <th>5</th>\n",
       "      <td>NaN</td>\n",
       "      <td>NaN</td>\n",
       "      <td>NaN</td>\n",
       "      <td>NaN</td>\n",
       "    </tr>\n",
       "  </tbody>\n",
       "</table>\n",
       "</div>"
      ],
      "text/plain": [
       "    A      B   C   D\n",
       "0 NaN    NaN NaN NaN\n",
       "1 NaN  Hello NaN NaN\n",
       "2 NaN    NaN NaN NaN\n",
       "3 NaN    NaN NaN NaN\n",
       "4 NaN    NaN NaN NaN\n",
       "5 NaN    NaN NaN NaN"
      ]
     },
     "execution_count": 6,
     "metadata": {},
     "output_type": "execute_result"
    }
   ],
   "source": [
    "df.iloc[1,1] = \"Hello\"\n",
    "\n",
    "df[df.isin([\"Hello\", \"World\"])]"
   ]
  },
  {
   "attachments": {},
   "cell_type": "markdown",
   "id": "14c3dc12-4c75-4447-901d-6daa40c034be",
   "metadata": {},
   "source": [
    "## Task1: Missing data\n",
    "In the following Dataframe, some data is missing. Find a way to:\n",
    "* 1: Remove the column containing the missing data\n",
    "* 2:  Fill the missing column with the average of each row"
   ]
  },
  {
   "cell_type": "code",
   "execution_count": 7,
   "id": "c08a8409-85f3-479b-817a-d425e69b1781",
   "metadata": {},
   "outputs": [
    {
     "data": {
      "text/html": [
       "<div>\n",
       "<style scoped>\n",
       "    .dataframe tbody tr th:only-of-type {\n",
       "        vertical-align: middle;\n",
       "    }\n",
       "\n",
       "    .dataframe tbody tr th {\n",
       "        vertical-align: top;\n",
       "    }\n",
       "\n",
       "    .dataframe thead th {\n",
       "        text-align: right;\n",
       "    }\n",
       "</style>\n",
       "<table border=\"1\" class=\"dataframe\">\n",
       "  <thead>\n",
       "    <tr style=\"text-align: right;\">\n",
       "      <th></th>\n",
       "      <th>A</th>\n",
       "      <th>B</th>\n",
       "      <th>C</th>\n",
       "      <th>D</th>\n",
       "      <th>E</th>\n",
       "    </tr>\n",
       "  </thead>\n",
       "  <tbody>\n",
       "    <tr>\n",
       "      <th>0</th>\n",
       "      <td>0.698271</td>\n",
       "      <td>0.230852</td>\n",
       "      <td>0.177781</td>\n",
       "      <td>-0.925777</td>\n",
       "      <td>NaN</td>\n",
       "    </tr>\n",
       "    <tr>\n",
       "      <th>1</th>\n",
       "      <td>-0.339921</td>\n",
       "      <td>Hello</td>\n",
       "      <td>-0.724134</td>\n",
       "      <td>1.617556</td>\n",
       "      <td>NaN</td>\n",
       "    </tr>\n",
       "    <tr>\n",
       "      <th>2</th>\n",
       "      <td>0.037641</td>\n",
       "      <td>0.350707</td>\n",
       "      <td>0.855080</td>\n",
       "      <td>0.572829</td>\n",
       "      <td>NaN</td>\n",
       "    </tr>\n",
       "    <tr>\n",
       "      <th>3</th>\n",
       "      <td>-0.634430</td>\n",
       "      <td>1.495392</td>\n",
       "      <td>0.154368</td>\n",
       "      <td>0.019994</td>\n",
       "      <td>NaN</td>\n",
       "    </tr>\n",
       "    <tr>\n",
       "      <th>4</th>\n",
       "      <td>-0.913781</td>\n",
       "      <td>0.211114</td>\n",
       "      <td>-0.771822</td>\n",
       "      <td>-0.873621</td>\n",
       "      <td>NaN</td>\n",
       "    </tr>\n",
       "    <tr>\n",
       "      <th>5</th>\n",
       "      <td>-0.335247</td>\n",
       "      <td>0.982257</td>\n",
       "      <td>-0.450534</td>\n",
       "      <td>0.262787</td>\n",
       "      <td>NaN</td>\n",
       "    </tr>\n",
       "  </tbody>\n",
       "</table>\n",
       "</div>"
      ],
      "text/plain": [
       "          A         B         C         D   E\n",
       "0  0.698271  0.230852  0.177781 -0.925777 NaN\n",
       "1 -0.339921     Hello -0.724134  1.617556 NaN\n",
       "2  0.037641  0.350707  0.855080  0.572829 NaN\n",
       "3 -0.634430  1.495392  0.154368  0.019994 NaN\n",
       "4 -0.913781  0.211114 -0.771822 -0.873621 NaN\n",
       "5 -0.335247  0.982257 -0.450534  0.262787 NaN"
      ]
     },
     "execution_count": 7,
     "metadata": {},
     "output_type": "execute_result"
    }
   ],
   "source": [
    "df1 = df.reindex( columns=list(df.columns) + [\"E\"])\n",
    "df1"
   ]
  },
  {
   "cell_type": "code",
   "execution_count": null,
   "id": "92912693-6f07-487a-8883-63ae7c8c2974",
   "metadata": {},
   "outputs": [],
   "source": []
  },
  {
   "attachments": {},
   "cell_type": "markdown",
   "id": "f6ff8f4a-a048-4ad6-b5ae-9720e7100d8e",
   "metadata": {},
   "source": [
    "# Task 2.1: Plotting\n",
    "\n",
    "The variable *ts* below contains a randomly generated \"time series\" a dataset in which time is one of the axies.\n",
    "\n",
    "* Calculate the **cumulative sum** of this series in a new series. The cumulative sum at index *i* is the sum of all entries in *ts* up until index *i*.\n",
    "* Plot the cumulative sum using *matplotlib*"
   ]
  },
  {
   "cell_type": "code",
   "execution_count": 8,
   "id": "43a4e2a6-218b-4894-8524-cf34299bc5ed",
   "metadata": {},
   "outputs": [],
   "source": [
    "import matplotlib.pyplot as plt\n",
    "ts = pd.Series(np.random.randn(1000), index=pd.date_range(\"1/1/2000\", periods=1000))\n"
   ]
  },
  {
   "attachments": {},
   "cell_type": "markdown",
   "id": "bddf06bc",
   "metadata": {},
   "source": [
    "# Task 2.2:  \n",
    "\n",
    "Adapt the code above to plot 4 timeseries in the same plot, with A different colour and label for each timeseries.\\\n",
    "The output should look similar to this:\\\n",
    "![ ](..\\img\\output_2_2.png)"
   ]
  },
  {
   "cell_type": "code",
   "execution_count": 9,
   "id": "33a32a06-e2da-4b15-ab00-c1a0361667df",
   "metadata": {},
   "outputs": [],
   "source": [
    "df = pd.DataFrame(\n",
    "    np.random.randn(1000, 4), index=ts.index, columns=[\"A\", \"B\", \"C\", \"D\"]\n",
    ")\n",
    "\n"
   ]
  }
 ],
 "metadata": {
  "interpreter": {
   "hash": "17dbd8faaacc25d53b4711e28179d2ae6dbd5797a932c2f06c73186f9f8a4c28"
  },
  "kernelspec": {
   "display_name": "Python 3",
   "language": "python",
   "name": "python3"
  },
  "language_info": {
   "codemirror_mode": {
    "name": "ipython",
    "version": 3
   },
   "file_extension": ".py",
   "mimetype": "text/x-python",
   "name": "python",
   "nbconvert_exporter": "python",
   "pygments_lexer": "ipython3",
   "version": "3.9.9"
  }
 },
 "nbformat": 4,
 "nbformat_minor": 5
}

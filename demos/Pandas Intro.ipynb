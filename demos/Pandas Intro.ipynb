{
 "cells": [
  {
   "cell_type": "code",
   "execution_count": 10,
   "id": "d4624da7",
   "metadata": {},
   "outputs": [
    {
     "data": {
      "text/html": [
       "<div>\n",
       "<style scoped>\n",
       "    .dataframe tbody tr th:only-of-type {\n",
       "        vertical-align: middle;\n",
       "    }\n",
       "\n",
       "    .dataframe tbody tr th {\n",
       "        vertical-align: top;\n",
       "    }\n",
       "\n",
       "    .dataframe thead th {\n",
       "        text-align: right;\n",
       "    }\n",
       "</style>\n",
       "<table border=\"1\" class=\"dataframe\">\n",
       "  <thead>\n",
       "    <tr style=\"text-align: right;\">\n",
       "      <th></th>\n",
       "      <th>BuildingArea</th>\n",
       "      <th>YearBuilt</th>\n",
       "      <th>CouncilArea</th>\n",
       "    </tr>\n",
       "  </thead>\n",
       "  <tbody>\n",
       "    <tr>\n",
       "      <th>13575</th>\n",
       "      <td>NaN</td>\n",
       "      <td>1981.0</td>\n",
       "      <td>NaN</td>\n",
       "    </tr>\n",
       "    <tr>\n",
       "      <th>13576</th>\n",
       "      <td>133.0</td>\n",
       "      <td>1995.0</td>\n",
       "      <td>NaN</td>\n",
       "    </tr>\n",
       "    <tr>\n",
       "      <th>13577</th>\n",
       "      <td>NaN</td>\n",
       "      <td>1997.0</td>\n",
       "      <td>NaN</td>\n",
       "    </tr>\n",
       "    <tr>\n",
       "      <th>13578</th>\n",
       "      <td>157.0</td>\n",
       "      <td>1920.0</td>\n",
       "      <td>NaN</td>\n",
       "    </tr>\n",
       "    <tr>\n",
       "      <th>13579</th>\n",
       "      <td>112.0</td>\n",
       "      <td>1920.0</td>\n",
       "      <td>NaN</td>\n",
       "    </tr>\n",
       "  </tbody>\n",
       "</table>\n",
       "</div>"
      ],
      "text/plain": [
       "       BuildingArea  YearBuilt CouncilArea\n",
       "13575           NaN     1981.0         NaN\n",
       "13576         133.0     1995.0         NaN\n",
       "13577           NaN     1997.0         NaN\n",
       "13578         157.0     1920.0         NaN\n",
       "13579         112.0     1920.0         NaN"
      ]
     },
     "execution_count": 10,
     "metadata": {},
     "output_type": "execute_result"
    }
   ],
   "source": [
    "import pandas as pd\n",
    "import numpy as np\n",
    "df=pd.read_csv(\"../datasets/melb_data.csv\")\n",
    "df[df.isnull().any(axis=1)].iloc[-5:,14:17]"
   ]
  },
  {
   "cell_type": "markdown",
   "id": "1a3b2c17-071d-4c70-a527-d05080e79a45",
   "metadata": {},
   "source": [
    "## Pandas\n",
    "Pandas is a Data Manipulaiton Library hat makes it easy to handle complex datasets.\n",
    "\n",
    "Creating a DataFrame by passing a NumPy array, with labeled columns:"
   ]
  },
  {
   "cell_type": "code",
   "execution_count": 11,
   "id": "81d9d468-5de6-4a6c-b9b6-dab17707fcd7",
   "metadata": {},
   "outputs": [],
   "source": [
    "df = pd.DataFrame(np.random.randn(6, 4),  columns=list(\"ABCD\"))"
   ]
  },
  {
   "cell_type": "markdown",
   "id": "92906ada-0a22-484c-abcd-a71c112d4b83",
   "metadata": {},
   "source": [
    "The columns of the resulting DataFrame have different dtypes.\n",
    "\n",
    "If you’re using IPython, tab completion for column names (as well as public attributes) is automatically enabled. Here’s a subset of the attributes that will be completed:\n",
    "\n"
   ]
  },
  {
   "cell_type": "code",
   "execution_count": 12,
   "id": "93b58f04-bc1d-4a82-9a8c-9b51ec094797",
   "metadata": {},
   "outputs": [
    {
     "data": {
      "text/plain": [
       "A    float64\n",
       "B    float64\n",
       "C    float64\n",
       "D    float64\n",
       "dtype: object"
      ]
     },
     "execution_count": 12,
     "metadata": {},
     "output_type": "execute_result"
    }
   ],
   "source": [
    "df.dtypes"
   ]
  },
  {
   "cell_type": "markdown",
   "id": "a43d65c6-0536-4480-843e-cba5a10a921a",
   "metadata": {},
   "source": [
    "## Viewing data\n",
    "df.head()\n",
    "df.tail(3)\n",
    "df.describe()\n",
    "df.sort_values(by=\"B\")\n",
    "df.sort_index(axis=1, ascending=False)"
   ]
  },
  {
   "cell_type": "markdown",
   "id": "e84753f7-f1fe-4cc6-9cfa-4d5d8c1ceba6",
   "metadata": {},
   "source": [
    "## Selecting Data"
   ]
  },
  {
   "cell_type": "code",
   "execution_count": 13,
   "id": "baa80724-b3fa-46eb-ace9-5cd261301241",
   "metadata": {},
   "outputs": [
    {
     "name": "stdout",
     "output_type": "stream",
     "text": [
      "0    0.711198\n",
      "1    0.326552\n",
      "2    1.182634\n",
      "3    1.305521\n",
      "4    0.302218\n",
      "5   -0.251031\n",
      "Name: A, dtype: float64\n",
      "          A         B\n",
      "3  1.305521  0.713508\n",
      "4  0.302218  2.265124\n"
     ]
    }
   ],
   "source": [
    "print(df[\"A\"])\n",
    "\n",
    "print(df.iloc[3:5, 0:2] )#selection by index"
   ]
  },
  {
   "cell_type": "markdown",
   "id": "98c8b487-b9f0-4b62-bf5e-013f4f4b6780",
   "metadata": {},
   "source": [
    "## Boolean indexing"
   ]
  },
  {
   "cell_type": "code",
   "execution_count": 14,
   "id": "22a22b8b-1aec-4167-b56f-5851ecbfbebc",
   "metadata": {},
   "outputs": [
    {
     "name": "stdout",
     "output_type": "stream",
     "text": [
      "          A         B         C         D\n",
      "0  0.711198       NaN  0.230388  0.227714\n",
      "1  0.326552       NaN       NaN  0.104969\n",
      "2  1.182634  1.185896  0.658286       NaN\n",
      "3  1.305521  0.713508       NaN  0.048853\n",
      "4  0.302218  2.265124  0.684564  0.350826\n",
      "5       NaN  1.324972  1.760301  0.908176\n"
     ]
    }
   ],
   "source": [
    "print(df[df > 0])\n"
   ]
  },
  {
   "cell_type": "code",
   "execution_count": 15,
   "id": "9945e87c",
   "metadata": {},
   "outputs": [
    {
     "data": {
      "text/html": [
       "<div>\n",
       "<style scoped>\n",
       "    .dataframe tbody tr th:only-of-type {\n",
       "        vertical-align: middle;\n",
       "    }\n",
       "\n",
       "    .dataframe tbody tr th {\n",
       "        vertical-align: top;\n",
       "    }\n",
       "\n",
       "    .dataframe thead th {\n",
       "        text-align: right;\n",
       "    }\n",
       "</style>\n",
       "<table border=\"1\" class=\"dataframe\">\n",
       "  <thead>\n",
       "    <tr style=\"text-align: right;\">\n",
       "      <th></th>\n",
       "      <th>A</th>\n",
       "      <th>B</th>\n",
       "      <th>C</th>\n",
       "      <th>D</th>\n",
       "    </tr>\n",
       "  </thead>\n",
       "  <tbody>\n",
       "    <tr>\n",
       "      <th>0</th>\n",
       "      <td>NaN</td>\n",
       "      <td>NaN</td>\n",
       "      <td>NaN</td>\n",
       "      <td>NaN</td>\n",
       "    </tr>\n",
       "    <tr>\n",
       "      <th>1</th>\n",
       "      <td>NaN</td>\n",
       "      <td>Hello</td>\n",
       "      <td>NaN</td>\n",
       "      <td>NaN</td>\n",
       "    </tr>\n",
       "    <tr>\n",
       "      <th>2</th>\n",
       "      <td>NaN</td>\n",
       "      <td>NaN</td>\n",
       "      <td>NaN</td>\n",
       "      <td>NaN</td>\n",
       "    </tr>\n",
       "    <tr>\n",
       "      <th>3</th>\n",
       "      <td>NaN</td>\n",
       "      <td>NaN</td>\n",
       "      <td>NaN</td>\n",
       "      <td>NaN</td>\n",
       "    </tr>\n",
       "    <tr>\n",
       "      <th>4</th>\n",
       "      <td>NaN</td>\n",
       "      <td>NaN</td>\n",
       "      <td>NaN</td>\n",
       "      <td>NaN</td>\n",
       "    </tr>\n",
       "    <tr>\n",
       "      <th>5</th>\n",
       "      <td>NaN</td>\n",
       "      <td>NaN</td>\n",
       "      <td>NaN</td>\n",
       "      <td>NaN</td>\n",
       "    </tr>\n",
       "  </tbody>\n",
       "</table>\n",
       "</div>"
      ],
      "text/plain": [
       "    A      B   C   D\n",
       "0 NaN    NaN NaN NaN\n",
       "1 NaN  Hello NaN NaN\n",
       "2 NaN    NaN NaN NaN\n",
       "3 NaN    NaN NaN NaN\n",
       "4 NaN    NaN NaN NaN\n",
       "5 NaN    NaN NaN NaN"
      ]
     },
     "execution_count": 15,
     "metadata": {},
     "output_type": "execute_result"
    }
   ],
   "source": [
    "df.iloc[1,1] = \"Hello\"\n",
    "\n",
    "df[df.isin([\"Hello\", \"World\"])]"
   ]
  },
  {
   "cell_type": "markdown",
   "id": "14c3dc12-4c75-4447-901d-6daa40c034be",
   "metadata": {},
   "source": [
    "## Task1: Missing data\n",
    "In the following Dataframe, some data is missing. Find a way to:\n",
    "* 1: Remove the column containing the missing data\n",
    "* 2:  Fill the missing column with the average of each row"
   ]
  },
  {
   "cell_type": "code",
   "execution_count": 16,
   "id": "c08a8409-85f3-479b-817a-d425e69b1781",
   "metadata": {},
   "outputs": [
    {
     "data": {
      "text/html": [
       "<div>\n",
       "<style scoped>\n",
       "    .dataframe tbody tr th:only-of-type {\n",
       "        vertical-align: middle;\n",
       "    }\n",
       "\n",
       "    .dataframe tbody tr th {\n",
       "        vertical-align: top;\n",
       "    }\n",
       "\n",
       "    .dataframe thead th {\n",
       "        text-align: right;\n",
       "    }\n",
       "</style>\n",
       "<table border=\"1\" class=\"dataframe\">\n",
       "  <thead>\n",
       "    <tr style=\"text-align: right;\">\n",
       "      <th></th>\n",
       "      <th>A</th>\n",
       "      <th>B</th>\n",
       "      <th>C</th>\n",
       "      <th>D</th>\n",
       "      <th>E</th>\n",
       "    </tr>\n",
       "  </thead>\n",
       "  <tbody>\n",
       "    <tr>\n",
       "      <th>0</th>\n",
       "      <td>0.711198</td>\n",
       "      <td>-0.724628</td>\n",
       "      <td>0.230388</td>\n",
       "      <td>0.227714</td>\n",
       "      <td>NaN</td>\n",
       "    </tr>\n",
       "    <tr>\n",
       "      <th>1</th>\n",
       "      <td>0.326552</td>\n",
       "      <td>Hello</td>\n",
       "      <td>-1.644045</td>\n",
       "      <td>0.104969</td>\n",
       "      <td>NaN</td>\n",
       "    </tr>\n",
       "    <tr>\n",
       "      <th>2</th>\n",
       "      <td>1.182634</td>\n",
       "      <td>1.185896</td>\n",
       "      <td>0.658286</td>\n",
       "      <td>-0.588709</td>\n",
       "      <td>NaN</td>\n",
       "    </tr>\n",
       "    <tr>\n",
       "      <th>3</th>\n",
       "      <td>1.305521</td>\n",
       "      <td>0.713508</td>\n",
       "      <td>-0.026937</td>\n",
       "      <td>0.048853</td>\n",
       "      <td>NaN</td>\n",
       "    </tr>\n",
       "    <tr>\n",
       "      <th>4</th>\n",
       "      <td>0.302218</td>\n",
       "      <td>2.265124</td>\n",
       "      <td>0.684564</td>\n",
       "      <td>0.350826</td>\n",
       "      <td>NaN</td>\n",
       "    </tr>\n",
       "    <tr>\n",
       "      <th>5</th>\n",
       "      <td>-0.251031</td>\n",
       "      <td>1.324972</td>\n",
       "      <td>1.760301</td>\n",
       "      <td>0.908176</td>\n",
       "      <td>NaN</td>\n",
       "    </tr>\n",
       "  </tbody>\n",
       "</table>\n",
       "</div>"
      ],
      "text/plain": [
       "          A         B         C         D   E\n",
       "0  0.711198 -0.724628  0.230388  0.227714 NaN\n",
       "1  0.326552     Hello -1.644045  0.104969 NaN\n",
       "2  1.182634  1.185896  0.658286 -0.588709 NaN\n",
       "3  1.305521  0.713508 -0.026937  0.048853 NaN\n",
       "4  0.302218  2.265124  0.684564  0.350826 NaN\n",
       "5 -0.251031  1.324972  1.760301  0.908176 NaN"
      ]
     },
     "execution_count": 16,
     "metadata": {},
     "output_type": "execute_result"
    }
   ],
   "source": [
    "df1 = df.reindex( columns=list(df.columns) + [\"E\"])\n",
    "df1"
   ]
  },
  {
   "cell_type": "code",
   "execution_count": null,
   "id": "92912693-6f07-487a-8883-63ae7c8c2974",
   "metadata": {},
   "outputs": [],
   "source": []
  },
  {
   "cell_type": "markdown",
   "id": "f6ff8f4a-a048-4ad6-b5ae-9720e7100d8e",
   "metadata": {},
   "source": [
    "# Task 2.1: Plotting\n",
    "\n",
    "The variable *ts* below contains a randomly generated \"time series\" a dataset in which time is one of the axies.\n",
    "\n",
    "* Calculate the **cumulative sum** of this series in a new series. The cumulative sum at index *i* is the sum of all entries in *ts* up until index *i*.\n",
    "* Plot the cumulative sum using *matplotlib*"
   ]
  },
  {
   "cell_type": "code",
   "execution_count": 17,
   "id": "43a4e2a6-218b-4894-8524-cf34299bc5ed",
   "metadata": {},
   "outputs": [],
   "source": [
    "import matplotlib.pyplot as plt\n",
    "ts = pd.Series(np.random.randn(1000), index=pd.date_range(\"1/1/2000\", periods=1000))\n"
   ]
  },
  {
   "cell_type": "markdown",
   "id": "bddf06bc",
   "metadata": {},
   "source": [
    "# Task 2.2:  \n",
    "\n",
    "Adapt the code above to plot 4 timeseries in the same plot, with A different colour and label for each timeseries.\\\n",
    "The output should look similar to this:\\\n",
    "![ ](..\\img\\output_2_2.png)"
   ]
  },
  {
   "cell_type": "code",
   "execution_count": 18,
   "id": "33a32a06-e2da-4b15-ab00-c1a0361667df",
   "metadata": {},
   "outputs": [],
   "source": [
    "df = pd.DataFrame(\n",
    "    np.random.randn(1000, 4), index=ts.index, columns=[\"A\", \"B\", \"C\", \"D\"]\n",
    ")\n",
    "\n"
   ]
  }
 ],
 "metadata": {
  "interpreter": {
   "hash": "17dbd8faaacc25d53b4711e28179d2ae6dbd5797a932c2f06c73186f9f8a4c28"
  },
  "kernelspec": {
   "display_name": "Python 3",
   "language": "python",
   "name": "python3"
  },
  "language_info": {
   "codemirror_mode": {
    "name": "ipython",
    "version": 3
   },
   "file_extension": ".py",
   "mimetype": "text/x-python",
   "name": "python",
   "nbconvert_exporter": "python",
   "pygments_lexer": "ipython3",
   "version": "3.9.9"
  }
 },
 "nbformat": 4,
 "nbformat_minor": 5
}

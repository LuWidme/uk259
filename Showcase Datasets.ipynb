{
 "cells": [
  {
   "cell_type": "markdown",
   "id": "d3d88e6c-4393-4630-91ea-ed6a12953a59",
   "metadata": {},
   "source": [
    "# Iris Flowers\n",
    "The Iris flower data set or Fisher's Iris data set is a multivariate data set introduced by the British statistician and biologist Ronald Fisher in his 1936.\n",
    "\n",
    "The data set consists of 50 samples from each of three species of Iris (Iris setosa, Iris virginica and Iris versicolor). Four features were measured from each sample: the length and the width of the sepals and petals, in centimeters. \n",
    "It could be used for both classification and regression problems.\n",
    "\n",
    "<img src=\"img/1280px-Iris_versicolor_3.jpg\" alt=\"iris versicolor\" width=\"400\"/>\n"
   ]
  },
  {
   "cell_type": "markdown",
   "id": "29a403b9-2b8c-4465-9b8a-259229380a3f",
   "metadata": {},
   "source": [
    "# Penguins\n",
    "\n",
    "Similar to the above dataset, this dataset contains measurements of several penguin species (Chinstrap, Gentoo, Adélie). \n",
    "\n",
    "It could be used for both classification and regression problems.\n",
    "![ ](img\\lter_penguins.png)\n",
    "Access:\n",
    "\n",
    "`import seaborn as sns`\n",
    "\n",
    "`penguins = sns.load_dataset(\"penguins\")`"
   ]
  },
  {
   "cell_type": "markdown",
   "id": "5bfc8d46-390e-48fa-bde7-e454d20099b2",
   "metadata": {},
   "source": [
    "# Titanic\n",
    "\n",
    "The sinking of the Titanic is one of the most infamous shipwrecks in history.\n",
    "\n",
    "On April 15, 1912, during her maiden voyage, the widely considered “unsinkable” RMS Titanic sank after colliding with an iceberg. Unfortunately, there weren’t enough lifeboats for everyone onboard, resulting in the death of 1502 out of 2224 passengers and crew.\n",
    "\n",
    "While there was some element of luck involved in surviving, it seems some groups of people were more likely to survive than others.\n",
    "\n",
    "![ ](img\\1280px-RMS_Titanic_3.jpg)"
   ]
  },
  {
   "cell_type": "markdown",
   "id": "c942c487-00a1-4071-827c-a98b9ca3dde7",
   "metadata": {},
   "source": [
    "# Housing Market\n",
    "\n",
    "The dataset used in this project is the data of the houses sold in Melbourne from the period January 2016 to October 2018 posted by Tony Pino on Kaggle scrapped from publicly available results posted every week from Domain.com.au. Some of the data fields include Date, Price, Suburb, Region name, Landsize, Building size, Distance from CBD and others. \n",
    "\n",
    "![ ](img\\1_XT0SA-RgUe6aHAmQfMvl8w.png)\n",
    "\n",
    "\n",
    "Analysis Idea:\n",
    "* Train a neural network to predict the house price based on the remaining datapoints\n",
    "* Predict some categorical variable of the house (e.g. the region) using a decision tree classifier \n",
    "\n",
    "Some Data-Analysis Questions to answer:\n",
    "* What will be the average price of the houses in different metropolitan regions of Melbourne in the second quarter of 2018?\n",
    "* In which month are more houses sold in Melbourne?\n",
    "* What are the top 10 suburbs of Melbourne by the price and the maximum number of houses sold?\n",
    "\n",
    "\n",
    "Access: .csv file in `datasets` folder"
   ]
  },
  {
   "cell_type": "markdown",
   "id": "270b9cda",
   "metadata": {},
   "source": [
    "# Tips\n",
    "A dataset containing information about Restaurant customers, their meals and the ammoputn they tipped.\n",
    "Use data visulisation to draw conclusions about tipping habits. Which factors best predict the value of the tip?\n",
    "\n",
    "Access:\n",
    "`import seaborn as sns`\n",
    "`tips = sns.load_dataset(\"tips\")`"
   ]
  },
  {
   "cell_type": "markdown",
   "metadata": {},
   "source": [
    "# Handwritten Digits\n",
    "\n",
    "The MNIST database (Modified National Institute of Standards and Technology database) is a large database of handwritten digits that is commonly used for training various image processing systems. The database is also widely used for training and testing in the field of machine learning.\n",
    "\n",
    "![MNIST](img\\MnistExamples.png)\n",
    "\n",
    "Project Ideas:\n",
    "Try to train a model and apply it to different handrawn digit images (maybe even your own). Research data augmentation techniques to improve your results. \n",
    "\n",
    "Access: \n",
    "\n",
    "`import tensorflow.keras as ks`\n",
    "\n",
    "`import tensorflow as tf`\n",
    "\n",
    "`mnist = ks.datasets.mnist`"
   ]
  },
  {
   "cell_type": "markdown",
   "id": "e83f644e",
   "metadata": {},
   "source": [
    "# Cats vs Dogs\n",
    "This dataste contains a set of 25'000 inmages of cats and dogs\n",
    "Analysis idea:\n",
    "\n",
    "Try to train a neural network that can reliably tell Cats from Dogs. Research a network structure that has been shown to work well for this task (e.g. Convoluional Neural Networks, the lecutrer can help you with this) and try to apply it on new data, for example an image of your pet! \n",
    "\n",
    "Access: https://www.microsoft.com/en-us/download/confirmation.aspx?id=54765\n",
    "\n"
   ]
  }
 ],
 "metadata": {
  "kernelspec": {
   "display_name": "uk259",
   "language": "python",
   "name": "uk259"
  },
  "language_info": {
   "codemirror_mode": {
    "name": "ipython",
    "version": 3
   },
   "file_extension": ".py",
   "mimetype": "text/x-python",
   "name": "python",
   "nbconvert_exporter": "python",
   "pygments_lexer": "ipython3",
   "version": "3.9.9"
  }
 },
 "nbformat": 4,
 "nbformat_minor": 5
}

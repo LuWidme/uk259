{
 "cells": [
  {
   "cell_type": "markdown",
   "id": "d3d88e6c-4393-4630-91ea-ed6a12953a59",
   "metadata": {},
   "source": [
    "# Iris Flowers\n",
    "\n",
    "<img src=\"img/1280px-Iris_versicolor_3.jpg\" alt=\"iris versicolor\" width=\"200\"/>\n"
   ]
  },
  {
   "cell_type": "markdown",
   "id": "29a403b9-2b8c-4465-9b8a-259229380a3f",
   "metadata": {},
   "source": [
    "# Penguins\n"
   ]
  },
  {
   "cell_type": "markdown",
   "id": "5bfc8d46-390e-48fa-bde7-e454d20099b2",
   "metadata": {},
   "source": [
    "# Titanic\n",
    "\n",
    "The sinking of the Titanic is one of the most infamous shipwrecks in history.\n",
    "\n",
    "On April 15, 1912, during her maiden voyage, the widely considered “unsinkable” RMS Titanic sank after colliding with an iceberg. Unfortunately, there weren’t enough lifeboats for everyone onboard, resulting in the death of 1502 out of 2224 passengers and crew.\n",
    "\n",
    "While there was some element of luck involved in surviving, it seems some groups of people were more likely to survive than others."
   ]
  },
  {
   "cell_type": "markdown",
   "id": "c942c487-00a1-4071-827c-a98b9ca3dde7",
   "metadata": {},
   "source": [
    "# Housing Market"
   ]
  }
 ],
 "metadata": {
  "kernelspec": {
   "display_name": "uk259",
   "language": "python",
   "name": "uk259"
  },
  "language_info": {
   "codemirror_mode": {
    "name": "ipython",
    "version": 3
   },
   "file_extension": ".py",
   "mimetype": "text/x-python",
   "name": "python",
   "nbconvert_exporter": "python",
   "pygments_lexer": "ipython3",
   "version": "3.9.9"
  }
 },
 "nbformat": 4,
 "nbformat_minor": 5
}
